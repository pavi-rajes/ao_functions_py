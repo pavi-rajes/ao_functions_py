{
  "nbformat": 4,
  "nbformat_minor": 0,
  "metadata": {
    "colab": {
      "name": "TCA.ipynb",
      "provenance": [],
      "collapsed_sections": [],
      "include_colab_link": true
    },
    "kernelspec": {
      "name": "python3",
      "display_name": "Python 3"
    }
  },
  "cells": [
    {
      "cell_type": "markdown",
      "metadata": {
        "id": "view-in-github",
        "colab_type": "text"
      },
      "source": [
        "<a href=\"https://colab.research.google.com/github/pavi-rajes/ao_functions_py/blob/Function-consolidation/TCA.ipynb\" target=\"_parent\"><img src=\"https://colab.research.google.com/assets/colab-badge.svg\" alt=\"Open In Colab\"/></a>"
      ]
    },
    {
      "cell_type": "code",
      "metadata": {
        "id": "7Uv3HPMQ66PD",
        "colab_type": "code",
        "colab": {
          "base_uri": "https://localhost:8080/",
          "height": 122
        },
        "outputId": "de855531-5392-45fb-88de-7e5d40cefc48"
      },
      "source": [
        "from google.colab import drive\n",
        "drive.mount('/content/drive')"
      ],
      "execution_count": null,
      "outputs": [
        {
          "output_type": "stream",
          "text": [
            "Go to this URL in a browser: https://accounts.google.com/o/oauth2/auth?client_id=947318989803-6bn6qk8qdgf4n4g3pfee6491hc0brc4i.apps.googleusercontent.com&redirect_uri=urn%3aietf%3awg%3aoauth%3a2.0%3aoob&response_type=code&scope=email%20https%3a%2f%2fwww.googleapis.com%2fauth%2fdocs.test%20https%3a%2f%2fwww.googleapis.com%2fauth%2fdrive%20https%3a%2f%2fwww.googleapis.com%2fauth%2fdrive.photos.readonly%20https%3a%2f%2fwww.googleapis.com%2fauth%2fpeopleapi.readonly\n",
            "\n",
            "Enter your authorization code:\n",
            "··········\n",
            "Mounted at /content/drive\n"
          ],
          "name": "stdout"
        }
      ]
    },
    {
      "cell_type": "code",
      "metadata": {
        "id": "7v8y0TDv8Oh0",
        "colab_type": "code",
        "colab": {
          "base_uri": "https://localhost:8080/",
          "height": 37
        },
        "outputId": "45263e55-2d60-45f7-8b94-f30909c109a9"
      },
      "source": [
        "import os\n",
        "os.getcwd() \n",
        "\n",
        "my_dir = \"/content/drive/My Drive/Colab Notebooks\"\n",
        "os.chdir(my_dir)\n",
        "os.getcwd() "
      ],
      "execution_count": null,
      "outputs": [
        {
          "output_type": "execute_result",
          "data": {
            "application/vnd.google.colaboratory.intrinsic+json": {
              "type": "string"
            },
            "text/plain": [
              "'/content/drive/My Drive/Colab Notebooks'"
            ]
          },
          "metadata": {
            "tags": []
          },
          "execution_count": 1
        }
      ]
    },
    {
      "cell_type": "code",
      "metadata": {
        "id": "7XksHF-CYq2u",
        "colab_type": "code",
        "colab": {
          "resources": {
            "http://localhost:8080/nbextensions/google.colab/files.js": {
              "data": "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",
              "ok": true,
              "headers": [
                [
                  "content-type",
                  "application/javascript"
                ]
              ],
              "status": 200,
              "status_text": ""
            }
          },
          "base_uri": "https://localhost:8080/",
          "height": 380
        },
        "outputId": "c8af67fd-2146-490c-cf7d-81ef1512c576"
      },
      "source": [
        "########################### upload data from local ###########################\n",
        "from google.colab import files\n",
        "files.upload()"
      ],
      "execution_count": null,
      "outputs": [
        {
          "output_type": "display_data",
          "data": {
            "text/html": [
              "\n",
              "     <input type=\"file\" id=\"files-f7d2f283-26e0-43c1-a9fb-b6cb4ccfa022\" name=\"files[]\" multiple disabled\n",
              "        style=\"border:none\" />\n",
              "     <output id=\"result-f7d2f283-26e0-43c1-a9fb-b6cb4ccfa022\">\n",
              "      Upload widget is only available when the cell has been executed in the\n",
              "      current browser session. Please rerun this cell to enable.\n",
              "      </output>\n",
              "      <script src=\"/nbextensions/google.colab/files.js\"></script> "
            ],
            "text/plain": [
              "<IPython.core.display.HTML object>"
            ]
          },
          "metadata": {
            "tags": []
          }
        },
        {
          "output_type": "error",
          "ename": "MessageError",
          "evalue": "ignored",
          "traceback": [
            "\u001b[0;31m---------------------------------------------------------------------------\u001b[0m",
            "\u001b[0;31mMessageError\u001b[0m                              Traceback (most recent call last)",
            "\u001b[0;32m<ipython-input-2-a6736964eba3>\u001b[0m in \u001b[0;36m<module>\u001b[0;34m()\u001b[0m\n\u001b[1;32m      1\u001b[0m \u001b[0;31m########################### upload data from local ###########################\u001b[0m\u001b[0;34m\u001b[0m\u001b[0;34m\u001b[0m\u001b[0;34m\u001b[0m\u001b[0m\n\u001b[1;32m      2\u001b[0m \u001b[0;32mfrom\u001b[0m \u001b[0mgoogle\u001b[0m\u001b[0;34m.\u001b[0m\u001b[0mcolab\u001b[0m \u001b[0;32mimport\u001b[0m \u001b[0mfiles\u001b[0m\u001b[0;34m\u001b[0m\u001b[0;34m\u001b[0m\u001b[0m\n\u001b[0;32m----> 3\u001b[0;31m \u001b[0mfiles\u001b[0m\u001b[0;34m.\u001b[0m\u001b[0mupload\u001b[0m\u001b[0;34m(\u001b[0m\u001b[0;34m)\u001b[0m\u001b[0;34m\u001b[0m\u001b[0;34m\u001b[0m\u001b[0m\n\u001b[0m",
            "\u001b[0;32m/usr/local/lib/python3.6/dist-packages/google/colab/files.py\u001b[0m in \u001b[0;36mupload\u001b[0;34m()\u001b[0m\n\u001b[1;32m     70\u001b[0m     result = _output.eval_js(\n\u001b[1;32m     71\u001b[0m         'google.colab._files._uploadFilesContinue(\"{output_id}\")'.format(\n\u001b[0;32m---> 72\u001b[0;31m             output_id=output_id))\n\u001b[0m\u001b[1;32m     73\u001b[0m     \u001b[0;32mif\u001b[0m \u001b[0mresult\u001b[0m\u001b[0;34m[\u001b[0m\u001b[0;34m'action'\u001b[0m\u001b[0;34m]\u001b[0m \u001b[0;34m!=\u001b[0m \u001b[0;34m'append'\u001b[0m\u001b[0;34m:\u001b[0m\u001b[0;34m\u001b[0m\u001b[0;34m\u001b[0m\u001b[0m\n\u001b[1;32m     74\u001b[0m       \u001b[0;31m# JS side uses a generator of promises to process all of the files- some\u001b[0m\u001b[0;34m\u001b[0m\u001b[0;34m\u001b[0m\u001b[0;34m\u001b[0m\u001b[0m\n",
            "\u001b[0;32m/usr/local/lib/python3.6/dist-packages/google/colab/output/_js.py\u001b[0m in \u001b[0;36meval_js\u001b[0;34m(script, ignore_result)\u001b[0m\n\u001b[1;32m     37\u001b[0m   \u001b[0;32mif\u001b[0m \u001b[0mignore_result\u001b[0m\u001b[0;34m:\u001b[0m\u001b[0;34m\u001b[0m\u001b[0;34m\u001b[0m\u001b[0m\n\u001b[1;32m     38\u001b[0m     \u001b[0;32mreturn\u001b[0m\u001b[0;34m\u001b[0m\u001b[0;34m\u001b[0m\u001b[0m\n\u001b[0;32m---> 39\u001b[0;31m   \u001b[0;32mreturn\u001b[0m \u001b[0m_message\u001b[0m\u001b[0;34m.\u001b[0m\u001b[0mread_reply_from_input\u001b[0m\u001b[0;34m(\u001b[0m\u001b[0mrequest_id\u001b[0m\u001b[0;34m)\u001b[0m\u001b[0;34m\u001b[0m\u001b[0;34m\u001b[0m\u001b[0m\n\u001b[0m\u001b[1;32m     40\u001b[0m \u001b[0;34m\u001b[0m\u001b[0m\n\u001b[1;32m     41\u001b[0m \u001b[0;34m\u001b[0m\u001b[0m\n",
            "\u001b[0;32m/usr/local/lib/python3.6/dist-packages/google/colab/_message.py\u001b[0m in \u001b[0;36mread_reply_from_input\u001b[0;34m(message_id, timeout_sec)\u001b[0m\n\u001b[1;32m    104\u001b[0m         reply.get('colab_msg_id') == message_id):\n\u001b[1;32m    105\u001b[0m       \u001b[0;32mif\u001b[0m \u001b[0;34m'error'\u001b[0m \u001b[0;32min\u001b[0m \u001b[0mreply\u001b[0m\u001b[0;34m:\u001b[0m\u001b[0;34m\u001b[0m\u001b[0;34m\u001b[0m\u001b[0m\n\u001b[0;32m--> 106\u001b[0;31m         \u001b[0;32mraise\u001b[0m \u001b[0mMessageError\u001b[0m\u001b[0;34m(\u001b[0m\u001b[0mreply\u001b[0m\u001b[0;34m[\u001b[0m\u001b[0;34m'error'\u001b[0m\u001b[0;34m]\u001b[0m\u001b[0;34m)\u001b[0m\u001b[0;34m\u001b[0m\u001b[0;34m\u001b[0m\u001b[0m\n\u001b[0m\u001b[1;32m    107\u001b[0m       \u001b[0;32mreturn\u001b[0m \u001b[0mreply\u001b[0m\u001b[0;34m.\u001b[0m\u001b[0mget\u001b[0m\u001b[0;34m(\u001b[0m\u001b[0;34m'data'\u001b[0m\u001b[0;34m,\u001b[0m \u001b[0;32mNone\u001b[0m\u001b[0;34m)\u001b[0m\u001b[0;34m\u001b[0m\u001b[0;34m\u001b[0m\u001b[0m\n\u001b[1;32m    108\u001b[0m \u001b[0;34m\u001b[0m\u001b[0m\n",
            "\u001b[0;31mMessageError\u001b[0m: RangeError: Maximum call stack size exceeded."
          ]
        }
      ]
    },
    {
      "cell_type": "code",
      "metadata": {
        "id": "SpXaE15QdRSU",
        "colab_type": "code",
        "colab": {}
      },
      "source": [
        "########################### import lib & data ###########################\n",
        "import pickle\n",
        "import numpy as np\n",
        "import matplotlib.pyplot as plt\n",
        "from scipy import stats\n",
        "\n",
        "dat = pickle.load(open(\"/content/drive/My Drive/Year_1/Summer_2020/NeuroMatchAcademy/UseTheseSessions/ses13.p\", \"rb\"))\n",
        "spk = dat[\"spks\"]\n",
        "# print(dat.keys())"
      ],
      "execution_count": null,
      "outputs": []
    },
    {
      "cell_type": "code",
      "metadata": {
        "id": "zYPyLC9lYndE",
        "colab_type": "code",
        "colab": {}
      },
      "source": [
        "########################### function for normalization ###########################\n",
        "# log scaling can't work on neg or 0\n",
        "# sqrt(raw_spk) --> z-score\n",
        "def frNormalization(spk):\n",
        "    spkz=np.sqrt(spk)\n",
        "    spk_norm = np.zeros_like(spk)\n",
        "    for cn in range(spkz.shape[0]):\n",
        "        psth = spkz[cn, :, :]\n",
        "        #print(psth.shape)\n",
        "        for trn in range(psth.shape[0]):\n",
        "            # trlSpk = psth[trn, :] - np.nanmean(psth[trn, :])\n",
        "            trlSpk = stats.mstats.zscore(psth[trn, :], nan_policy='omit')\n",
        "            spk_norm[cn, trn, :] = trlSpk\n",
        "\n",
        "            del trlSpk\n",
        "        del psth\n",
        "    return spk_norm"
      ],
      "execution_count": null,
      "outputs": []
    },
    {
      "cell_type": "code",
      "metadata": {
        "id": "ScF0c7FZgwoh",
        "colab_type": "code",
        "colab": {
          "base_uri": "https://localhost:8080/",
          "height": 34
        },
        "outputId": "20bfd86d-a299-4636-8b20-16e49237fda3"
      },
      "source": [
        "psth = spk[:, 1, :]\n",
        "print(psth.shape)"
      ],
      "execution_count": null,
      "outputs": [
        {
          "output_type": "stream",
          "text": [
            "(983, 250)\n"
          ],
          "name": "stdout"
        }
      ]
    },
    {
      "cell_type": "code",
      "metadata": {
        "id": "PZ2H6w7ojA4_",
        "colab_type": "code",
        "colab": {}
      },
      "source": [
        "[0,0,1, 0, 2, 0, 0,2]"
      ],
      "execution_count": null,
      "outputs": []
    },
    {
      "cell_type": "code",
      "metadata": {
        "id": "wxLHN17WY6Rt",
        "colab_type": "code",
        "colab": {
          "base_uri": "https://localhost:8080/",
          "height": 85
        },
        "outputId": "f9da003d-34e3-438b-af5e-5dca369805f9"
      },
      "source": [
        "########################### get the selected regions normalized ###########################\n",
        "allAreas = dat[\"brain_area\"]\n",
        "usedAreas = ['CA1', 'VISam', 'PL', 'MOs']\n",
        "area=dict()\n",
        "cellN=np.zeros(4)\n",
        "for i in range(len(usedAreas)):\n",
        "    areaId = allAreas == usedAreas[i]\n",
        "    tmp_Area = spk[areaId, :, :]\n",
        "    # print(tmp_Area.shape)\n",
        "    area[i] = frNormalization(tmp_Area)\n",
        "    cellN[i]=tmp_Area.shape[0]\n",
        "\n",
        "# area contain normalized spikes from selected regions in usedAreas's order [index 0 -3 indicate each region]\n",
        "# area: row: trials; col: time bins\n",
        "print(area[0].shape)\n",
        "print(area[1].shape)"
      ],
      "execution_count": null,
      "outputs": [
        {
          "output_type": "stream",
          "text": [
            "/usr/local/lib/python3.6/dist-packages/scipy/stats/stats.py:2419: RuntimeWarning: invalid value encountered in true_divide\n",
            "  return (a - mns) / sstd\n"
          ],
          "name": "stderr"
        },
        {
          "output_type": "stream",
          "text": [
            "(34, 300, 250)\n",
            "(34, 300, 250)\n"
          ],
          "name": "stdout"
        }
      ]
    },
    {
      "cell_type": "code",
      "metadata": {
        "id": "yNCCR8oy-zM3",
        "colab_type": "code",
        "colab": {
          "base_uri": "https://localhost:8080/",
          "height": 85
        },
        "outputId": "00eb8e3d-39b3-4483-f329-937854249c83"
      },
      "source": [
        "print(area[0].shape)\n",
        "print(area[1].shape)\n",
        "print(area[2].shape)\n",
        "print(area[3].shape)"
      ],
      "execution_count": null,
      "outputs": [
        {
          "output_type": "stream",
          "text": [
            "(34, 300, 250)\n",
            "(34, 300, 250)\n",
            "(184, 300, 250)\n",
            "(46, 300, 250)\n"
          ],
          "name": "stdout"
        }
      ]
    },
    {
      "cell_type": "code",
      "metadata": {
        "id": "sotJiidN-y8P",
        "colab_type": "code",
        "colab": {
          "base_uri": "https://localhost:8080/",
          "height": 323
        },
        "outputId": "cc7ce085-f976-4a9a-e68b-30d4bcc930e1"
      },
      "source": [
        "# Installing Tensor tools\n",
        "!pip install git+https://github.com/ahwillia/tensortools"
      ],
      "execution_count": null,
      "outputs": [
        {
          "output_type": "stream",
          "text": [
            "Collecting git+https://github.com/ahwillia/tensortools\n",
            "  Cloning https://github.com/ahwillia/tensortools to /tmp/pip-req-build-x918ukiq\n",
            "  Running command git clone -q https://github.com/ahwillia/tensortools /tmp/pip-req-build-x918ukiq\n",
            "Requirement already satisfied: numpy in /usr/local/lib/python3.6/dist-packages (from tensortools==0.3) (1.18.5)\n",
            "Requirement already satisfied: scipy in /usr/local/lib/python3.6/dist-packages (from tensortools==0.3) (1.4.1)\n",
            "Requirement already satisfied: tqdm in /usr/local/lib/python3.6/dist-packages (from tensortools==0.3) (4.41.1)\n",
            "Collecting munkres\n",
            "  Downloading https://files.pythonhosted.org/packages/64/97/61ddc63578870e04db6eb1d3bee58ad4e727f682068a7c7405edb8b2cdeb/munkres-1.1.2-py2.py3-none-any.whl\n",
            "Requirement already satisfied: numba in /usr/local/lib/python3.6/dist-packages (from tensortools==0.3) (0.48.0)\n",
            "Requirement already satisfied: llvmlite<0.32.0,>=0.31.0dev0 in /usr/local/lib/python3.6/dist-packages (from numba->tensortools==0.3) (0.31.0)\n",
            "Requirement already satisfied: setuptools in /usr/local/lib/python3.6/dist-packages (from numba->tensortools==0.3) (49.1.0)\n",
            "Building wheels for collected packages: tensortools\n",
            "  Building wheel for tensortools (setup.py) ... \u001b[?25l\u001b[?25hdone\n",
            "  Created wheel for tensortools: filename=tensortools-0.3-cp36-none-any.whl size=26267 sha256=c3cd05fb9d99472edbdc42c1202cf9dec4473e344cdbb47e1d95eaba51c269f2\n",
            "  Stored in directory: /tmp/pip-ephem-wheel-cache-uck9z980/wheels/e4/4f/c6/b7ea145adb6874a9583dfe0c5c8ef3048335f4f885c6ee01ac\n",
            "Successfully built tensortools\n",
            "Installing collected packages: munkres, tensortools\n",
            "Successfully installed munkres-1.1.2 tensortools-0.3\n"
          ],
          "name": "stdout"
        }
      ]
    },
    {
      "cell_type": "code",
      "metadata": {
        "id": "ZPxK7ZZlAlBp",
        "colab_type": "code",
        "colab": {}
      },
      "source": [
        "import tensortools as tt\n",
        "import numpy as np\n",
        "import matplotlib.pyplot as plt\n",
        "\n",
        "# all methods of tensortools:  'cp_als','data','diagnostics','ensemble','kruskal_align', 'mcp_als', 'ncp_bcd', 'ncp_hals', 'operations', 'optimize', 'plot_factors', 'plot_objective','plot_similarity','rand_ktensor', 'randexp_ktensor', 'randn_ktensor', 'tensors', 'visualization']"
      ],
      "execution_count": null,
      "outputs": []
    },
    {
      "cell_type": "code",
      "metadata": {
        "id": "Qt77nca2Gu9z",
        "colab_type": "code",
        "colab": {}
      },
      "source": [
        "# this is frome here: https://gist.github.com/derricw/95eab740e1b08b78c03f \n",
        "\n",
        "def bin_ndarray(ndarray, new_shape, operation='sum'):\n",
        "    \"\"\"\n",
        "    Bins an ndarray in all axes based on the target shape, by summing or\n",
        "        averaging.\n",
        "    Number of output dimensions must match number of input dimensions.\n",
        "    Example\n",
        "    -------\n",
        "    >>> m = np.arange(0,100,1).reshape((10,10))\n",
        "    >>> n = bin_ndarray(m, new_shape=(5,5), operation='sum')\n",
        "    >>> print(n)\n",
        "    [[ 22  30  38  46  54]\n",
        "     [102 110 118 126 134]\n",
        "     [182 190 198 206 214]\n",
        "     [262 270 278 286 294]\n",
        "     [342 350 358 366 374]]\n",
        "    \"\"\"\n",
        "    if not operation.lower() in ['sum', 'mean', 'average', 'avg']:\n",
        "        raise ValueError(\"Operation {} not supported.\".format(operation))\n",
        "    if ndarray.ndim != len(new_shape):\n",
        "        raise ValueError(\"Shape mismatch: {} -> {}\".format(ndarray.shape,\n",
        "                                                           new_shape))\n",
        "    compression_pairs = [(d, c//d) for d, c in zip(new_shape,\n",
        "                                                   ndarray.shape)]\n",
        "    flattened = [l for p in compression_pairs for l in p]\n",
        "    ndarray = ndarray.reshape(flattened)\n",
        "    for i in range(len(new_shape)):\n",
        "        if operation.lower() == \"sum\":\n",
        "            ndarray = ndarray.sum(-1*(i+1))\n",
        "        elif operation.lower() in [\"mean\", \"average\", \"avg\"]:\n",
        "            ndarray = ndarray.mean(-1*(i+1))\n",
        "    return ndarray"
      ],
      "execution_count": null,
      "outputs": []
    },
    {
      "cell_type": "code",
      "metadata": {
        "id": "hQmLAf31G4nd",
        "colab_type": "code",
        "colab": {
          "base_uri": "https://localhost:8080/",
          "height": 85
        },
        "outputId": "9758c01e-1a23-44d4-e9ba-7adaf8e9d12d"
      },
      "source": [
        "new_n_bins = 25\n",
        "firing_rate = dict()\n",
        "for iA in range(len(area)):\n",
        "  iN = area[iA].shape[0]\n",
        "  iT = area[iA].shape[1]\n",
        "  # take sum and divide by 0.1 to get firing rate in Hz\n",
        "  firing_rate[iA]=bin_ndarray(area[iA],new_shape=(iN,iT,new_n_bins),operation='sum') / 0.1 \n",
        "  print(firing_rate[iA].shape)\n",
        "#print(firing_rate[0])"
      ],
      "execution_count": null,
      "outputs": [
        {
          "output_type": "stream",
          "text": [
            "(34, 300, 25)\n",
            "(34, 300, 25)\n",
            "(184, 300, 25)\n",
            "(46, 300, 25)\n"
          ],
          "name": "stdout"
        }
      ]
    },
    {
      "cell_type": "code",
      "metadata": {
        "id": "uQMCKToYJGga",
        "colab_type": "code",
        "colab": {
          "base_uri": "https://localhost:8080/",
          "height": 170
        },
        "outputId": "08bc5258-117e-4a59-c1d9-5edb9f52cd02"
      },
      "source": [
        "Xn = firing_rate[2]\n",
        "R_Xn = np.linalg.matrix_rank(Xn) # finding the rank of our input matrix\n",
        "print(R_Xn)\n",
        "print(R_Xn.shape)"
      ],
      "execution_count": null,
      "outputs": [
        {
          "output_type": "stream",
          "text": [
            "[25 25 24 25 25 25 25 16 25 25 25 25 25 25 25  5 24 25 25 25 25 25 25 25\n",
            " 25 25 25 25 25 25 25 25 25 25 25 25 25 19 25 25 25 25 25 25 25 25 25 25\n",
            " 25 25 25 25 25 25 25 20 25 24 25 25 25 24 25 25 15 25 25 25 25 25 25 25\n",
            " 25 25 25 25 25 25 25 25 25 24 25 25 25 25 25 25 25  1 25 25 25 25 25 25\n",
            " 25 25 25 25 25 25 25 25 25 25 25 25 25 25 25 25 25 25 25 25 25 25 25 21\n",
            " 25 25 25 25 25 25 25 15 25 24 25 25 25 25 25 25 25 15 24 25 25 25  9 25\n",
            " 25 25 23 25 25 25 25 25 25 25 25 25 25 25 25 25 25 25 25 25 25 25 25 25\n",
            " 25 25 25 25 25 25 25 25 25 25 25 25 25 25 25 25]\n",
            "(184,)\n"
          ],
          "name": "stdout"
        }
      ]
    },
    {
      "cell_type": "code",
      "metadata": {
        "id": "43KHwccSI3J1",
        "colab_type": "code",
        "colab": {
          "base_uri": "https://localhost:8080/",
          "height": 1000
        },
        "outputId": "38b82ab2-ee83-4f28-b176-eb77bb7a04cf"
      },
      "source": [
        "# this script is for similarity score and error plot from cpd_ensemble.py (Alex- Github)\n",
        "\n",
        "# Fit ensembles of tensor decompositions.\n",
        "methods = (\n",
        "  'cp_als',    # fits unconstrained tensor decomposition.\n",
        "  'ncp_bcd',   # fits nonnegative tensor decomposition.\n",
        "  'ncp_hals',  # fits nonnegative tensor decomposition.\n",
        ")\n",
        "\n",
        "\n",
        "ensembles = {}\n",
        "for m in methods:\n",
        "    ensembles[m] = tt.Ensemble(fit_method=m, fit_options=dict(tol=1e-4))\n",
        "    ensembles[m].fit(Xn, ranks=range(1, 100), replicates=3)\n",
        "\n",
        "# Plotting options for the unconstrained and nonnegative models.\n",
        "plot_options = {\n",
        "  'cp_als': {\n",
        "    'line_kw': {\n",
        "      'color': 'black',\n",
        "      'label': 'cp_als',\n",
        "    },\n",
        "    'scatter_kw': {\n",
        "      'color': 'black',\n",
        "    },\n",
        "  },\n",
        "  'ncp_hals': {\n",
        "    'line_kw': {\n",
        "      'color': 'blue',\n",
        "      'alpha': 0.5,\n",
        "      'label': 'ncp_hals',\n",
        "    },\n",
        "    'scatter_kw': {\n",
        "      'color': 'blue',\n",
        "      'alpha': 0.5,\n",
        "    },\n",
        "  },\n",
        "  'ncp_bcd': {\n",
        "    'line_kw': {\n",
        "      'color': 'red',\n",
        "      'alpha': 0.5,\n",
        "      'label': 'ncp_bcd',\n",
        "    },\n",
        "    'scatter_kw': {\n",
        "      'color': 'red',\n",
        "      'alpha': 0.5,\n",
        "    },\n",
        "  },\n",
        "}\n",
        "\n",
        "# Plot similarity and error plots.\n",
        "plt.figure()\n",
        "for m in methods:\n",
        "    tt.plot_objective(ensembles[m], **plot_options[m])\n",
        "plt.legend()\n",
        "\n",
        "plt.figure()\n",
        "for m in methods:\n",
        "    tt.plot_similarity(ensembles[m], **plot_options[m])\n",
        "plt.legend()\n",
        "\n",
        "plt.show()"
      ],
      "execution_count": null,
      "outputs": [
        {
          "output_type": "stream",
          "text": [
            "                                                                    "
          ],
          "name": "stderr"
        },
        {
          "output_type": "stream",
          "text": [
            "Rank-1 models:  min obj, 0.91;  max obj, 0.91;  time to fit, 0.3s\n"
          ],
          "name": "stdout"
        },
        {
          "output_type": "stream",
          "text": [
            "                                                                    "
          ],
          "name": "stderr"
        },
        {
          "output_type": "stream",
          "text": [
            "Rank-2 models:  min obj, 0.90;  max obj, 0.90;  time to fit, 0.5s\n"
          ],
          "name": "stdout"
        },
        {
          "output_type": "stream",
          "text": [
            "                                                                    "
          ],
          "name": "stderr"
        },
        {
          "output_type": "stream",
          "text": [
            "Rank-3 models:  min obj, 0.89;  max obj, 0.90;  time to fit, 0.7s\n"
          ],
          "name": "stdout"
        },
        {
          "output_type": "stream",
          "text": [
            "                                                                    "
          ],
          "name": "stderr"
        },
        {
          "output_type": "stream",
          "text": [
            "Rank-4 models:  min obj, 0.89;  max obj, 0.89;  time to fit, 0.5s\n"
          ],
          "name": "stdout"
        },
        {
          "output_type": "stream",
          "text": [
            "                                                                    "
          ],
          "name": "stderr"
        },
        {
          "output_type": "stream",
          "text": [
            "Rank-5 models:  min obj, 0.89;  max obj, 0.89;  time to fit, 0.8s\n"
          ],
          "name": "stdout"
        },
        {
          "output_type": "stream",
          "text": [
            "                                                                    "
          ],
          "name": "stderr"
        },
        {
          "output_type": "stream",
          "text": [
            "Rank-6 models:  min obj, 0.89;  max obj, 0.89;  time to fit, 1.1s\n"
          ],
          "name": "stdout"
        },
        {
          "output_type": "stream",
          "text": [
            "                                                                    "
          ],
          "name": "stderr"
        },
        {
          "output_type": "stream",
          "text": [
            "Rank-7 models:  min obj, 0.89;  max obj, 0.89;  time to fit, 0.7s\n"
          ],
          "name": "stdout"
        },
        {
          "output_type": "stream",
          "text": [
            "                                                                    "
          ],
          "name": "stderr"
        },
        {
          "output_type": "stream",
          "text": [
            "Rank-8 models:  min obj, 0.89;  max obj, 0.89;  time to fit, 0.9s\n"
          ],
          "name": "stdout"
        },
        {
          "output_type": "stream",
          "text": [
            "                                                                    "
          ],
          "name": "stderr"
        },
        {
          "output_type": "stream",
          "text": [
            "Rank-9 models:  min obj, 0.88;  max obj, 0.89;  time to fit, 1.0s\n"
          ],
          "name": "stdout"
        },
        {
          "output_type": "stream",
          "text": [
            "                                                                     "
          ],
          "name": "stderr"
        },
        {
          "output_type": "stream",
          "text": [
            "Rank-10 models:  min obj, 0.88;  max obj, 0.88;  time to fit, 1.2s\n"
          ],
          "name": "stdout"
        },
        {
          "output_type": "stream",
          "text": [
            "                                                                     "
          ],
          "name": "stderr"
        },
        {
          "output_type": "stream",
          "text": [
            "Rank-11 models:  min obj, 0.88;  max obj, 0.88;  time to fit, 1.3s\n"
          ],
          "name": "stdout"
        },
        {
          "output_type": "stream",
          "text": [
            "                                                                     "
          ],
          "name": "stderr"
        },
        {
          "output_type": "stream",
          "text": [
            "Rank-12 models:  min obj, 0.88;  max obj, 0.88;  time to fit, 1.5s\n"
          ],
          "name": "stdout"
        },
        {
          "output_type": "stream",
          "text": [
            "                                                                     "
          ],
          "name": "stderr"
        },
        {
          "output_type": "stream",
          "text": [
            "Rank-13 models:  min obj, 0.88;  max obj, 0.88;  time to fit, 1.5s\n"
          ],
          "name": "stdout"
        },
        {
          "output_type": "stream",
          "text": [
            "                                                                     "
          ],
          "name": "stderr"
        },
        {
          "output_type": "stream",
          "text": [
            "Rank-14 models:  min obj, 0.88;  max obj, 0.88;  time to fit, 1.4s\n"
          ],
          "name": "stdout"
        },
        {
          "output_type": "stream",
          "text": [
            "                                                                     "
          ],
          "name": "stderr"
        },
        {
          "output_type": "stream",
          "text": [
            "Rank-15 models:  min obj, 0.88;  max obj, 0.88;  time to fit, 1.6s\n"
          ],
          "name": "stdout"
        },
        {
          "output_type": "stream",
          "text": [
            "                                                                     "
          ],
          "name": "stderr"
        },
        {
          "output_type": "stream",
          "text": [
            "Rank-16 models:  min obj, 0.88;  max obj, 0.88;  time to fit, 1.6s\n"
          ],
          "name": "stdout"
        },
        {
          "output_type": "stream",
          "text": [
            "                                                                     "
          ],
          "name": "stderr"
        },
        {
          "output_type": "stream",
          "text": [
            "Rank-17 models:  min obj, 0.88;  max obj, 0.88;  time to fit, 1.7s\n"
          ],
          "name": "stdout"
        },
        {
          "output_type": "stream",
          "text": [
            "                                                                     "
          ],
          "name": "stderr"
        },
        {
          "output_type": "stream",
          "text": [
            "Rank-18 models:  min obj, 0.87;  max obj, 0.88;  time to fit, 1.7s\n"
          ],
          "name": "stdout"
        },
        {
          "output_type": "stream",
          "text": [
            "                                                                     "
          ],
          "name": "stderr"
        },
        {
          "output_type": "stream",
          "text": [
            "Rank-19 models:  min obj, 0.87;  max obj, 0.87;  time to fit, 1.7s\n"
          ],
          "name": "stdout"
        },
        {
          "output_type": "stream",
          "text": [
            "                                                                     "
          ],
          "name": "stderr"
        },
        {
          "output_type": "stream",
          "text": [
            "Rank-20 models:  min obj, 0.87;  max obj, 0.87;  time to fit, 1.8s\n"
          ],
          "name": "stdout"
        },
        {
          "output_type": "stream",
          "text": [
            "                                                                     "
          ],
          "name": "stderr"
        },
        {
          "output_type": "stream",
          "text": [
            "Rank-21 models:  min obj, 0.87;  max obj, 0.87;  time to fit, 2.1s\n"
          ],
          "name": "stdout"
        },
        {
          "output_type": "stream",
          "text": [
            "                                                                     "
          ],
          "name": "stderr"
        },
        {
          "output_type": "stream",
          "text": [
            "Rank-22 models:  min obj, 0.87;  max obj, 0.87;  time to fit, 2.1s\n"
          ],
          "name": "stdout"
        },
        {
          "output_type": "stream",
          "text": [
            "                                                                     "
          ],
          "name": "stderr"
        },
        {
          "output_type": "stream",
          "text": [
            "Rank-23 models:  min obj, 0.87;  max obj, 0.87;  time to fit, 2.0s\n"
          ],
          "name": "stdout"
        },
        {
          "output_type": "stream",
          "text": [
            "                                                                     "
          ],
          "name": "stderr"
        },
        {
          "output_type": "stream",
          "text": [
            "Rank-24 models:  min obj, 0.87;  max obj, 0.87;  time to fit, 2.2s\n"
          ],
          "name": "stdout"
        },
        {
          "output_type": "stream",
          "text": [
            "                                                                     "
          ],
          "name": "stderr"
        },
        {
          "output_type": "stream",
          "text": [
            "Rank-25 models:  min obj, 0.87;  max obj, 0.87;  time to fit, 2.1s\n"
          ],
          "name": "stdout"
        },
        {
          "output_type": "stream",
          "text": [
            "                                                                     "
          ],
          "name": "stderr"
        },
        {
          "output_type": "stream",
          "text": [
            "Rank-26 models:  min obj, 0.87;  max obj, 0.87;  time to fit, 2.5s\n"
          ],
          "name": "stdout"
        },
        {
          "output_type": "stream",
          "text": [
            "                                                                     "
          ],
          "name": "stderr"
        },
        {
          "output_type": "stream",
          "text": [
            "Rank-27 models:  min obj, 0.87;  max obj, 0.87;  time to fit, 2.5s\n"
          ],
          "name": "stdout"
        },
        {
          "output_type": "stream",
          "text": [
            "                                                                     "
          ],
          "name": "stderr"
        },
        {
          "output_type": "stream",
          "text": [
            "Rank-28 models:  min obj, 0.87;  max obj, 0.87;  time to fit, 2.6s\n"
          ],
          "name": "stdout"
        },
        {
          "output_type": "stream",
          "text": [
            "                                                                     "
          ],
          "name": "stderr"
        },
        {
          "output_type": "stream",
          "text": [
            "Rank-29 models:  min obj, 0.87;  max obj, 0.87;  time to fit, 2.6s\n"
          ],
          "name": "stdout"
        },
        {
          "output_type": "stream",
          "text": [
            "                                                                     "
          ],
          "name": "stderr"
        },
        {
          "output_type": "stream",
          "text": [
            "Rank-30 models:  min obj, 0.86;  max obj, 0.87;  time to fit, 2.6s\n"
          ],
          "name": "stdout"
        },
        {
          "output_type": "stream",
          "text": [
            "                                                                     "
          ],
          "name": "stderr"
        },
        {
          "output_type": "stream",
          "text": [
            "Rank-31 models:  min obj, 0.86;  max obj, 0.86;  time to fit, 2.6s\n"
          ],
          "name": "stdout"
        },
        {
          "output_type": "stream",
          "text": [
            "                                                                     "
          ],
          "name": "stderr"
        },
        {
          "output_type": "stream",
          "text": [
            "Rank-32 models:  min obj, 0.86;  max obj, 0.86;  time to fit, 2.9s\n"
          ],
          "name": "stdout"
        },
        {
          "output_type": "stream",
          "text": [
            "                                                                     "
          ],
          "name": "stderr"
        },
        {
          "output_type": "stream",
          "text": [
            "Rank-33 models:  min obj, 0.86;  max obj, 0.86;  time to fit, 2.8s\n"
          ],
          "name": "stdout"
        },
        {
          "output_type": "stream",
          "text": [
            "                                                                     "
          ],
          "name": "stderr"
        },
        {
          "output_type": "stream",
          "text": [
            "Rank-34 models:  min obj, 0.86;  max obj, 0.86;  time to fit, 2.6s\n"
          ],
          "name": "stdout"
        },
        {
          "output_type": "stream",
          "text": [
            "                                                                     "
          ],
          "name": "stderr"
        },
        {
          "output_type": "stream",
          "text": [
            "Rank-35 models:  min obj, 0.86;  max obj, 0.86;  time to fit, 3.0s\n"
          ],
          "name": "stdout"
        },
        {
          "output_type": "stream",
          "text": [
            "                                                                     "
          ],
          "name": "stderr"
        },
        {
          "output_type": "stream",
          "text": [
            "Rank-36 models:  min obj, 0.86;  max obj, 0.86;  time to fit, 2.9s\n"
          ],
          "name": "stdout"
        },
        {
          "output_type": "stream",
          "text": [
            "                                                                     "
          ],
          "name": "stderr"
        },
        {
          "output_type": "stream",
          "text": [
            "Rank-37 models:  min obj, 0.86;  max obj, 0.86;  time to fit, 3.0s\n"
          ],
          "name": "stdout"
        },
        {
          "output_type": "stream",
          "text": [
            "                                                                     "
          ],
          "name": "stderr"
        },
        {
          "output_type": "stream",
          "text": [
            "Rank-38 models:  min obj, 0.86;  max obj, 0.86;  time to fit, 3.1s\n"
          ],
          "name": "stdout"
        },
        {
          "output_type": "stream",
          "text": [
            "                                                                     "
          ],
          "name": "stderr"
        },
        {
          "output_type": "stream",
          "text": [
            "Rank-39 models:  min obj, 0.86;  max obj, 0.86;  time to fit, 3.1s\n"
          ],
          "name": "stdout"
        },
        {
          "output_type": "stream",
          "text": [
            "                                                                     "
          ],
          "name": "stderr"
        },
        {
          "output_type": "stream",
          "text": [
            "Rank-40 models:  min obj, 0.86;  max obj, 0.86;  time to fit, 3.0s\n"
          ],
          "name": "stdout"
        },
        {
          "output_type": "stream",
          "text": [
            "                                                                     "
          ],
          "name": "stderr"
        },
        {
          "output_type": "stream",
          "text": [
            "Rank-41 models:  min obj, 0.86;  max obj, 0.86;  time to fit, 3.6s\n"
          ],
          "name": "stdout"
        },
        {
          "output_type": "stream",
          "text": [
            "                                                                     "
          ],
          "name": "stderr"
        },
        {
          "output_type": "stream",
          "text": [
            "Rank-42 models:  min obj, 0.86;  max obj, 0.86;  time to fit, 3.4s\n"
          ],
          "name": "stdout"
        },
        {
          "output_type": "stream",
          "text": [
            "                                                                     "
          ],
          "name": "stderr"
        },
        {
          "output_type": "stream",
          "text": [
            "Rank-43 models:  min obj, 0.86;  max obj, 0.86;  time to fit, 3.6s\n"
          ],
          "name": "stdout"
        },
        {
          "output_type": "stream",
          "text": [
            "                                                                     "
          ],
          "name": "stderr"
        },
        {
          "output_type": "stream",
          "text": [
            "Rank-44 models:  min obj, 0.86;  max obj, 0.86;  time to fit, 3.5s\n"
          ],
          "name": "stdout"
        },
        {
          "output_type": "stream",
          "text": [
            "                                                                     "
          ],
          "name": "stderr"
        },
        {
          "output_type": "stream",
          "text": [
            "Rank-45 models:  min obj, 0.85;  max obj, 0.86;  time to fit, 3.6s\n"
          ],
          "name": "stdout"
        },
        {
          "output_type": "stream",
          "text": [
            "                                                                     "
          ],
          "name": "stderr"
        },
        {
          "output_type": "stream",
          "text": [
            "Rank-46 models:  min obj, 0.85;  max obj, 0.85;  time to fit, 4.1s\n"
          ],
          "name": "stdout"
        },
        {
          "output_type": "stream",
          "text": [
            "                                                                     "
          ],
          "name": "stderr"
        },
        {
          "output_type": "stream",
          "text": [
            "Rank-47 models:  min obj, 0.85;  max obj, 0.85;  time to fit, 4.1s\n"
          ],
          "name": "stdout"
        },
        {
          "output_type": "stream",
          "text": [
            "                                                                     "
          ],
          "name": "stderr"
        },
        {
          "output_type": "stream",
          "text": [
            "Rank-48 models:  min obj, 0.85;  max obj, 0.85;  time to fit, 3.7s\n"
          ],
          "name": "stdout"
        },
        {
          "output_type": "stream",
          "text": [
            "                                                                     "
          ],
          "name": "stderr"
        },
        {
          "output_type": "stream",
          "text": [
            "Rank-49 models:  min obj, 0.85;  max obj, 0.85;  time to fit, 4.0s\n"
          ],
          "name": "stdout"
        },
        {
          "output_type": "stream",
          "text": [
            "                                                                     "
          ],
          "name": "stderr"
        },
        {
          "output_type": "stream",
          "text": [
            "Rank-50 models:  min obj, 0.85;  max obj, 0.85;  time to fit, 4.1s\n"
          ],
          "name": "stdout"
        },
        {
          "output_type": "stream",
          "text": [
            "                                                                     "
          ],
          "name": "stderr"
        },
        {
          "output_type": "stream",
          "text": [
            "Rank-51 models:  min obj, 0.85;  max obj, 0.85;  time to fit, 4.0s\n"
          ],
          "name": "stdout"
        },
        {
          "output_type": "stream",
          "text": [
            "                                                                     "
          ],
          "name": "stderr"
        },
        {
          "output_type": "stream",
          "text": [
            "Rank-52 models:  min obj, 0.85;  max obj, 0.85;  time to fit, 4.2s\n"
          ],
          "name": "stdout"
        },
        {
          "output_type": "stream",
          "text": [
            "                                                                     "
          ],
          "name": "stderr"
        },
        {
          "output_type": "stream",
          "text": [
            "Rank-53 models:  min obj, 0.85;  max obj, 0.85;  time to fit, 4.4s\n"
          ],
          "name": "stdout"
        },
        {
          "output_type": "stream",
          "text": [
            "                                                                     "
          ],
          "name": "stderr"
        },
        {
          "output_type": "stream",
          "text": [
            "Rank-54 models:  min obj, 0.85;  max obj, 0.85;  time to fit, 4.3s\n"
          ],
          "name": "stdout"
        },
        {
          "output_type": "stream",
          "text": [
            "                                                                     "
          ],
          "name": "stderr"
        },
        {
          "output_type": "stream",
          "text": [
            "Rank-55 models:  min obj, 0.85;  max obj, 0.85;  time to fit, 4.6s\n"
          ],
          "name": "stdout"
        },
        {
          "output_type": "stream",
          "text": [
            "                                                                     "
          ],
          "name": "stderr"
        },
        {
          "output_type": "stream",
          "text": [
            "Rank-56 models:  min obj, 0.85;  max obj, 0.85;  time to fit, 4.4s\n"
          ],
          "name": "stdout"
        },
        {
          "output_type": "stream",
          "text": [
            "                                                                     "
          ],
          "name": "stderr"
        },
        {
          "output_type": "stream",
          "text": [
            "Rank-57 models:  min obj, 0.85;  max obj, 0.85;  time to fit, 4.3s\n"
          ],
          "name": "stdout"
        },
        {
          "output_type": "stream",
          "text": [
            "                                                                     "
          ],
          "name": "stderr"
        },
        {
          "output_type": "stream",
          "text": [
            "Rank-58 models:  min obj, 0.85;  max obj, 0.85;  time to fit, 4.8s\n"
          ],
          "name": "stdout"
        },
        {
          "output_type": "stream",
          "text": [
            "                                                                     "
          ],
          "name": "stderr"
        },
        {
          "output_type": "stream",
          "text": [
            "Rank-59 models:  min obj, 0.85;  max obj, 0.85;  time to fit, 5.0s\n"
          ],
          "name": "stdout"
        },
        {
          "output_type": "stream",
          "text": [
            "                                                                     "
          ],
          "name": "stderr"
        },
        {
          "output_type": "stream",
          "text": [
            "Rank-60 models:  min obj, 0.85;  max obj, 0.85;  time to fit, 4.7s\n"
          ],
          "name": "stdout"
        },
        {
          "output_type": "stream",
          "text": [
            "                                                                     "
          ],
          "name": "stderr"
        },
        {
          "output_type": "stream",
          "text": [
            "Rank-61 models:  min obj, 0.85;  max obj, 0.85;  time to fit, 5.3s\n"
          ],
          "name": "stdout"
        },
        {
          "output_type": "stream",
          "text": [
            "                                                                     "
          ],
          "name": "stderr"
        },
        {
          "output_type": "stream",
          "text": [
            "Rank-62 models:  min obj, 0.84;  max obj, 0.85;  time to fit, 5.3s\n"
          ],
          "name": "stdout"
        },
        {
          "output_type": "stream",
          "text": [
            "                                                                     "
          ],
          "name": "stderr"
        },
        {
          "output_type": "stream",
          "text": [
            "Rank-63 models:  min obj, 0.84;  max obj, 0.85;  time to fit, 5.3s\n"
          ],
          "name": "stdout"
        },
        {
          "output_type": "stream",
          "text": [
            "                                                                     "
          ],
          "name": "stderr"
        },
        {
          "output_type": "stream",
          "text": [
            "Rank-64 models:  min obj, 0.84;  max obj, 0.84;  time to fit, 4.8s\n"
          ],
          "name": "stdout"
        },
        {
          "output_type": "stream",
          "text": [
            "                                                                     "
          ],
          "name": "stderr"
        },
        {
          "output_type": "stream",
          "text": [
            "Rank-65 models:  min obj, 0.84;  max obj, 0.84;  time to fit, 5.4s\n"
          ],
          "name": "stdout"
        },
        {
          "output_type": "stream",
          "text": [
            "                                                                     "
          ],
          "name": "stderr"
        },
        {
          "output_type": "stream",
          "text": [
            "Rank-66 models:  min obj, 0.84;  max obj, 0.84;  time to fit, 5.3s\n"
          ],
          "name": "stdout"
        },
        {
          "output_type": "stream",
          "text": [
            "                                                                     "
          ],
          "name": "stderr"
        },
        {
          "output_type": "stream",
          "text": [
            "Rank-67 models:  min obj, 0.84;  max obj, 0.84;  time to fit, 5.4s\n"
          ],
          "name": "stdout"
        },
        {
          "output_type": "stream",
          "text": [
            "                                                                     "
          ],
          "name": "stderr"
        },
        {
          "output_type": "stream",
          "text": [
            "Rank-68 models:  min obj, 0.84;  max obj, 0.84;  time to fit, 5.6s\n"
          ],
          "name": "stdout"
        },
        {
          "output_type": "stream",
          "text": [
            "                                                                     "
          ],
          "name": "stderr"
        },
        {
          "output_type": "stream",
          "text": [
            "Rank-69 models:  min obj, 0.84;  max obj, 0.84;  time to fit, 5.5s\n"
          ],
          "name": "stdout"
        },
        {
          "output_type": "stream",
          "text": [
            "                                                                     "
          ],
          "name": "stderr"
        },
        {
          "output_type": "stream",
          "text": [
            "Rank-70 models:  min obj, 0.84;  max obj, 0.84;  time to fit, 6.3s\n"
          ],
          "name": "stdout"
        },
        {
          "output_type": "stream",
          "text": [
            "                                                                     "
          ],
          "name": "stderr"
        },
        {
          "output_type": "stream",
          "text": [
            "Rank-71 models:  min obj, 0.84;  max obj, 0.84;  time to fit, 6.1s\n"
          ],
          "name": "stdout"
        },
        {
          "output_type": "stream",
          "text": [
            "                                                                     "
          ],
          "name": "stderr"
        },
        {
          "output_type": "stream",
          "text": [
            "Rank-72 models:  min obj, 0.84;  max obj, 0.84;  time to fit, 5.7s\n"
          ],
          "name": "stdout"
        },
        {
          "output_type": "stream",
          "text": [
            "                                                                     "
          ],
          "name": "stderr"
        },
        {
          "output_type": "stream",
          "text": [
            "Rank-73 models:  min obj, 0.84;  max obj, 0.84;  time to fit, 5.6s\n"
          ],
          "name": "stdout"
        },
        {
          "output_type": "stream",
          "text": [
            "                                                                     "
          ],
          "name": "stderr"
        },
        {
          "output_type": "stream",
          "text": [
            "Rank-74 models:  min obj, 0.84;  max obj, 0.84;  time to fit, 5.7s\n"
          ],
          "name": "stdout"
        },
        {
          "output_type": "stream",
          "text": [
            "                                                                     "
          ],
          "name": "stderr"
        },
        {
          "output_type": "stream",
          "text": [
            "Rank-75 models:  min obj, 0.84;  max obj, 0.84;  time to fit, 6.3s\n"
          ],
          "name": "stdout"
        },
        {
          "output_type": "stream",
          "text": [
            "                                                                     "
          ],
          "name": "stderr"
        },
        {
          "output_type": "stream",
          "text": [
            "Rank-76 models:  min obj, 0.84;  max obj, 0.84;  time to fit, 6.2s\n"
          ],
          "name": "stdout"
        },
        {
          "output_type": "stream",
          "text": [
            "                                                                     "
          ],
          "name": "stderr"
        },
        {
          "output_type": "stream",
          "text": [
            "Rank-77 models:  min obj, 0.84;  max obj, 0.84;  time to fit, 6.2s\n"
          ],
          "name": "stdout"
        },
        {
          "output_type": "stream",
          "text": [
            "                                                                     "
          ],
          "name": "stderr"
        },
        {
          "output_type": "stream",
          "text": [
            "Rank-78 models:  min obj, 0.84;  max obj, 0.84;  time to fit, 6.1s\n"
          ],
          "name": "stdout"
        },
        {
          "output_type": "stream",
          "text": [
            "                                                                     "
          ],
          "name": "stderr"
        },
        {
          "output_type": "stream",
          "text": [
            "Rank-79 models:  min obj, 0.84;  max obj, 0.84;  time to fit, 6.3s\n"
          ],
          "name": "stdout"
        },
        {
          "output_type": "stream",
          "text": [
            "                                                                     "
          ],
          "name": "stderr"
        },
        {
          "output_type": "stream",
          "text": [
            "Rank-80 models:  min obj, 0.84;  max obj, 0.84;  time to fit, 6.6s\n"
          ],
          "name": "stdout"
        },
        {
          "output_type": "stream",
          "text": [
            "                                                                     "
          ],
          "name": "stderr"
        },
        {
          "output_type": "stream",
          "text": [
            "Rank-81 models:  min obj, 0.84;  max obj, 0.84;  time to fit, 6.6s\n"
          ],
          "name": "stdout"
        },
        {
          "output_type": "stream",
          "text": [
            "                                                                     "
          ],
          "name": "stderr"
        },
        {
          "output_type": "stream",
          "text": [
            "Rank-82 models:  min obj, 0.83;  max obj, 0.83;  time to fit, 6.9s\n"
          ],
          "name": "stdout"
        },
        {
          "output_type": "stream",
          "text": [
            "                                                                     "
          ],
          "name": "stderr"
        },
        {
          "output_type": "stream",
          "text": [
            "Rank-83 models:  min obj, 0.83;  max obj, 0.83;  time to fit, 6.7s\n"
          ],
          "name": "stdout"
        },
        {
          "output_type": "stream",
          "text": [
            "                                                                     "
          ],
          "name": "stderr"
        },
        {
          "output_type": "stream",
          "text": [
            "Rank-84 models:  min obj, 0.83;  max obj, 0.83;  time to fit, 6.7s\n"
          ],
          "name": "stdout"
        },
        {
          "output_type": "stream",
          "text": [
            "                                                                     "
          ],
          "name": "stderr"
        },
        {
          "output_type": "stream",
          "text": [
            "Rank-85 models:  min obj, 0.83;  max obj, 0.83;  time to fit, 6.7s\n"
          ],
          "name": "stdout"
        },
        {
          "output_type": "stream",
          "text": [
            "                                                                     "
          ],
          "name": "stderr"
        },
        {
          "output_type": "stream",
          "text": [
            "Rank-86 models:  min obj, 0.83;  max obj, 0.83;  time to fit, 6.8s\n"
          ],
          "name": "stdout"
        },
        {
          "output_type": "stream",
          "text": [
            "                                                                     "
          ],
          "name": "stderr"
        },
        {
          "output_type": "stream",
          "text": [
            "Rank-87 models:  min obj, 0.83;  max obj, 0.83;  time to fit, 6.7s\n"
          ],
          "name": "stdout"
        },
        {
          "output_type": "stream",
          "text": [
            "                                                                     "
          ],
          "name": "stderr"
        },
        {
          "output_type": "stream",
          "text": [
            "Rank-88 models:  min obj, 0.83;  max obj, 0.83;  time to fit, 7.2s\n"
          ],
          "name": "stdout"
        },
        {
          "output_type": "stream",
          "text": [
            "                                                                     "
          ],
          "name": "stderr"
        },
        {
          "output_type": "stream",
          "text": [
            "Rank-89 models:  min obj, 0.83;  max obj, 0.83;  time to fit, 7.0s\n"
          ],
          "name": "stdout"
        },
        {
          "output_type": "stream",
          "text": [
            "                                                                     "
          ],
          "name": "stderr"
        },
        {
          "output_type": "stream",
          "text": [
            "Rank-90 models:  min obj, 0.83;  max obj, 0.83;  time to fit, 7.2s\n"
          ],
          "name": "stdout"
        },
        {
          "output_type": "stream",
          "text": [
            "                                                                     "
          ],
          "name": "stderr"
        },
        {
          "output_type": "stream",
          "text": [
            "Rank-91 models:  min obj, 0.83;  max obj, 0.83;  time to fit, 6.7s\n"
          ],
          "name": "stdout"
        },
        {
          "output_type": "stream",
          "text": [
            "                                                                     "
          ],
          "name": "stderr"
        },
        {
          "output_type": "stream",
          "text": [
            "Rank-92 models:  min obj, 0.83;  max obj, 0.83;  time to fit, 7.0s\n"
          ],
          "name": "stdout"
        },
        {
          "output_type": "stream",
          "text": [
            "                                                                     "
          ],
          "name": "stderr"
        },
        {
          "output_type": "stream",
          "text": [
            "Rank-93 models:  min obj, 0.83;  max obj, 0.83;  time to fit, 7.6s\n"
          ],
          "name": "stdout"
        },
        {
          "output_type": "stream",
          "text": [
            "                                                                     "
          ],
          "name": "stderr"
        },
        {
          "output_type": "stream",
          "text": [
            "Rank-94 models:  min obj, 0.83;  max obj, 0.83;  time to fit, 7.5s\n"
          ],
          "name": "stdout"
        },
        {
          "output_type": "stream",
          "text": [
            "                                                                     "
          ],
          "name": "stderr"
        },
        {
          "output_type": "stream",
          "text": [
            "Rank-95 models:  min obj, 0.83;  max obj, 0.83;  time to fit, 7.4s\n"
          ],
          "name": "stdout"
        },
        {
          "output_type": "stream",
          "text": [
            "                                                                     "
          ],
          "name": "stderr"
        },
        {
          "output_type": "stream",
          "text": [
            "Rank-96 models:  min obj, 0.83;  max obj, 0.83;  time to fit, 7.5s\n"
          ],
          "name": "stdout"
        },
        {
          "output_type": "stream",
          "text": [
            "                                                                     "
          ],
          "name": "stderr"
        },
        {
          "output_type": "stream",
          "text": [
            "Rank-97 models:  min obj, 0.83;  max obj, 0.83;  time to fit, 8.1s\n"
          ],
          "name": "stdout"
        },
        {
          "output_type": "stream",
          "text": [
            "                                                                     "
          ],
          "name": "stderr"
        },
        {
          "output_type": "stream",
          "text": [
            "Rank-98 models:  min obj, 0.83;  max obj, 0.83;  time to fit, 7.7s\n"
          ],
          "name": "stdout"
        },
        {
          "output_type": "stream",
          "text": [
            "                                                                     "
          ],
          "name": "stderr"
        },
        {
          "output_type": "stream",
          "text": [
            "Rank-99 models:  min obj, 0.83;  max obj, 0.83;  time to fit, 8.4s\n"
          ],
          "name": "stdout"
        },
        {
          "output_type": "stream",
          "text": [
            "                                                                    "
          ],
          "name": "stderr"
        },
        {
          "output_type": "stream",
          "text": [
            "Rank-1 models:  min obj, 0.91;  max obj, 0.91;  time to fit, 0.2s\n"
          ],
          "name": "stdout"
        },
        {
          "output_type": "stream",
          "text": [
            "                                                                    "
          ],
          "name": "stderr"
        },
        {
          "output_type": "stream",
          "text": [
            "Rank-2 models:  min obj, 0.90;  max obj, 0.91;  time to fit, 0.7s\n"
          ],
          "name": "stdout"
        },
        {
          "output_type": "stream",
          "text": [
            "                                                                    "
          ],
          "name": "stderr"
        },
        {
          "output_type": "stream",
          "text": [
            "Rank-3 models:  min obj, 0.90;  max obj, 0.90;  time to fit, 1.8s\n"
          ],
          "name": "stdout"
        },
        {
          "output_type": "stream",
          "text": [
            "                                                                    "
          ],
          "name": "stderr"
        },
        {
          "output_type": "stream",
          "text": [
            "Rank-4 models:  min obj, 0.89;  max obj, 0.89;  time to fit, 1.8s\n"
          ],
          "name": "stdout"
        },
        {
          "output_type": "stream",
          "text": [
            "                                                                    "
          ],
          "name": "stderr"
        },
        {
          "output_type": "stream",
          "text": [
            "Rank-5 models:  min obj, 0.89;  max obj, 0.89;  time to fit, 2.2s\n"
          ],
          "name": "stdout"
        },
        {
          "output_type": "stream",
          "text": [
            "                                                                    "
          ],
          "name": "stderr"
        },
        {
          "output_type": "stream",
          "text": [
            "Rank-6 models:  min obj, 0.89;  max obj, 0.89;  time to fit, 2.3s\n"
          ],
          "name": "stdout"
        },
        {
          "output_type": "stream",
          "text": [
            "                                                                    "
          ],
          "name": "stderr"
        },
        {
          "output_type": "stream",
          "text": [
            "Rank-7 models:  min obj, 0.89;  max obj, 0.89;  time to fit, 2.1s\n"
          ],
          "name": "stdout"
        },
        {
          "output_type": "stream",
          "text": [
            "                                                                    "
          ],
          "name": "stderr"
        },
        {
          "output_type": "stream",
          "text": [
            "Rank-8 models:  min obj, 0.89;  max obj, 0.89;  time to fit, 2.7s\n"
          ],
          "name": "stdout"
        },
        {
          "output_type": "stream",
          "text": [
            "                                                                    "
          ],
          "name": "stderr"
        },
        {
          "output_type": "stream",
          "text": [
            "Rank-9 models:  min obj, 0.89;  max obj, 0.89;  time to fit, 2.9s\n"
          ],
          "name": "stdout"
        },
        {
          "output_type": "stream",
          "text": [
            "                                                                     "
          ],
          "name": "stderr"
        },
        {
          "output_type": "stream",
          "text": [
            "Rank-10 models:  min obj, 0.89;  max obj, 0.89;  time to fit, 3.2s\n"
          ],
          "name": "stdout"
        },
        {
          "output_type": "stream",
          "text": [
            "                                                                     "
          ],
          "name": "stderr"
        },
        {
          "output_type": "stream",
          "text": [
            "Rank-11 models:  min obj, 0.89;  max obj, 0.89;  time to fit, 3.1s\n"
          ],
          "name": "stdout"
        },
        {
          "output_type": "stream",
          "text": [
            "                                                                     "
          ],
          "name": "stderr"
        },
        {
          "output_type": "stream",
          "text": [
            "Rank-12 models:  min obj, 0.88;  max obj, 0.89;  time to fit, 3.1s\n"
          ],
          "name": "stdout"
        },
        {
          "output_type": "stream",
          "text": [
            "                                                                     "
          ],
          "name": "stderr"
        },
        {
          "output_type": "stream",
          "text": [
            "Rank-13 models:  min obj, 0.88;  max obj, 0.88;  time to fit, 3.8s\n"
          ],
          "name": "stdout"
        },
        {
          "output_type": "stream",
          "text": [
            "                                                                     "
          ],
          "name": "stderr"
        },
        {
          "output_type": "stream",
          "text": [
            "Rank-14 models:  min obj, 0.88;  max obj, 0.88;  time to fit, 3.6s\n"
          ],
          "name": "stdout"
        },
        {
          "output_type": "stream",
          "text": [
            "                                                                     "
          ],
          "name": "stderr"
        },
        {
          "output_type": "stream",
          "text": [
            "Rank-15 models:  min obj, 0.88;  max obj, 0.88;  time to fit, 4.0s\n"
          ],
          "name": "stdout"
        },
        {
          "output_type": "stream",
          "text": [
            "                                                                     "
          ],
          "name": "stderr"
        },
        {
          "output_type": "stream",
          "text": [
            "Rank-16 models:  min obj, 0.88;  max obj, 0.88;  time to fit, 3.9s\n"
          ],
          "name": "stdout"
        },
        {
          "output_type": "stream",
          "text": [
            "                                                                     "
          ],
          "name": "stderr"
        },
        {
          "output_type": "stream",
          "text": [
            "Rank-17 models:  min obj, 0.88;  max obj, 0.88;  time to fit, 4.6s\n"
          ],
          "name": "stdout"
        },
        {
          "output_type": "stream",
          "text": [
            "                                                                     "
          ],
          "name": "stderr"
        },
        {
          "output_type": "stream",
          "text": [
            "Rank-18 models:  min obj, 0.88;  max obj, 0.88;  time to fit, 4.9s\n"
          ],
          "name": "stdout"
        },
        {
          "output_type": "stream",
          "text": [
            "                                                                     "
          ],
          "name": "stderr"
        },
        {
          "output_type": "stream",
          "text": [
            "Rank-19 models:  min obj, 0.88;  max obj, 0.88;  time to fit, 5.0s\n"
          ],
          "name": "stdout"
        },
        {
          "output_type": "stream",
          "text": [
            "                                                                     "
          ],
          "name": "stderr"
        },
        {
          "output_type": "stream",
          "text": [
            "Rank-20 models:  min obj, 0.88;  max obj, 0.88;  time to fit, 5.3s\n"
          ],
          "name": "stdout"
        },
        {
          "output_type": "stream",
          "text": [
            "                                                                     "
          ],
          "name": "stderr"
        },
        {
          "output_type": "stream",
          "text": [
            "Rank-21 models:  min obj, 0.88;  max obj, 0.88;  time to fit, 5.5s\n"
          ],
          "name": "stdout"
        },
        {
          "output_type": "stream",
          "text": [
            "                                                                     "
          ],
          "name": "stderr"
        },
        {
          "output_type": "stream",
          "text": [
            "Rank-22 models:  min obj, 0.88;  max obj, 0.88;  time to fit, 5.3s\n"
          ],
          "name": "stdout"
        },
        {
          "output_type": "stream",
          "text": [
            "                                                                     "
          ],
          "name": "stderr"
        },
        {
          "output_type": "stream",
          "text": [
            "Rank-23 models:  min obj, 0.88;  max obj, 0.88;  time to fit, 6.0s\n"
          ],
          "name": "stdout"
        },
        {
          "output_type": "stream",
          "text": [
            "                                                                     "
          ],
          "name": "stderr"
        },
        {
          "output_type": "stream",
          "text": [
            "Rank-24 models:  min obj, 0.88;  max obj, 0.88;  time to fit, 5.9s\n"
          ],
          "name": "stdout"
        },
        {
          "output_type": "stream",
          "text": [
            "                                                                     "
          ],
          "name": "stderr"
        },
        {
          "output_type": "stream",
          "text": [
            "Rank-25 models:  min obj, 0.88;  max obj, 0.88;  time to fit, 6.2s\n"
          ],
          "name": "stdout"
        },
        {
          "output_type": "stream",
          "text": [
            "                                                                     "
          ],
          "name": "stderr"
        },
        {
          "output_type": "stream",
          "text": [
            "Rank-26 models:  min obj, 0.87;  max obj, 0.88;  time to fit, 7.4s\n"
          ],
          "name": "stdout"
        },
        {
          "output_type": "stream",
          "text": [
            "                                                                     "
          ],
          "name": "stderr"
        },
        {
          "output_type": "stream",
          "text": [
            "Rank-27 models:  min obj, 0.87;  max obj, 0.88;  time to fit, 6.7s\n"
          ],
          "name": "stdout"
        },
        {
          "output_type": "stream",
          "text": [
            "                                                                     "
          ],
          "name": "stderr"
        },
        {
          "output_type": "stream",
          "text": [
            "Rank-28 models:  min obj, 0.87;  max obj, 0.88;  time to fit, 7.2s\n"
          ],
          "name": "stdout"
        },
        {
          "output_type": "stream",
          "text": [
            "                                                                     "
          ],
          "name": "stderr"
        },
        {
          "output_type": "stream",
          "text": [
            "Rank-29 models:  min obj, 0.87;  max obj, 0.87;  time to fit, 7.0s\n"
          ],
          "name": "stdout"
        },
        {
          "output_type": "stream",
          "text": [
            "                                                                     "
          ],
          "name": "stderr"
        },
        {
          "output_type": "stream",
          "text": [
            "Rank-30 models:  min obj, 0.87;  max obj, 0.87;  time to fit, 7.3s\n"
          ],
          "name": "stdout"
        },
        {
          "output_type": "stream",
          "text": [
            "                                                                     "
          ],
          "name": "stderr"
        },
        {
          "output_type": "stream",
          "text": [
            "Rank-31 models:  min obj, 0.87;  max obj, 0.87;  time to fit, 8.1s\n"
          ],
          "name": "stdout"
        },
        {
          "output_type": "stream",
          "text": [
            "                                                                     "
          ],
          "name": "stderr"
        },
        {
          "output_type": "stream",
          "text": [
            "Rank-32 models:  min obj, 0.87;  max obj, 0.87;  time to fit, 7.5s\n"
          ],
          "name": "stdout"
        },
        {
          "output_type": "stream",
          "text": [
            "                                                                     "
          ],
          "name": "stderr"
        },
        {
          "output_type": "stream",
          "text": [
            "Rank-33 models:  min obj, 0.87;  max obj, 0.87;  time to fit, 8.0s\n"
          ],
          "name": "stdout"
        },
        {
          "output_type": "stream",
          "text": [
            "                                                                     "
          ],
          "name": "stderr"
        },
        {
          "output_type": "stream",
          "text": [
            "Rank-34 models:  min obj, 0.87;  max obj, 0.87;  time to fit, 8.3s\n"
          ],
          "name": "stdout"
        },
        {
          "output_type": "stream",
          "text": [
            "                                                                     "
          ],
          "name": "stderr"
        },
        {
          "output_type": "stream",
          "text": [
            "Rank-35 models:  min obj, 0.87;  max obj, 0.87;  time to fit, 9.0s\n"
          ],
          "name": "stdout"
        },
        {
          "output_type": "stream",
          "text": [
            "                                                                     "
          ],
          "name": "stderr"
        },
        {
          "output_type": "stream",
          "text": [
            "Rank-36 models:  min obj, 0.87;  max obj, 0.87;  time to fit, 9.1s\n"
          ],
          "name": "stdout"
        },
        {
          "output_type": "stream",
          "text": [
            "                                                                     "
          ],
          "name": "stderr"
        },
        {
          "output_type": "stream",
          "text": [
            "Rank-37 models:  min obj, 0.87;  max obj, 0.87;  time to fit, 9.5s\n"
          ],
          "name": "stdout"
        },
        {
          "output_type": "stream",
          "text": [
            "                                                                     "
          ],
          "name": "stderr"
        },
        {
          "output_type": "stream",
          "text": [
            "Rank-38 models:  min obj, 0.87;  max obj, 0.87;  time to fit, 9.9s\n"
          ],
          "name": "stdout"
        },
        {
          "output_type": "stream",
          "text": [
            "                                                                     "
          ],
          "name": "stderr"
        },
        {
          "output_type": "stream",
          "text": [
            "Rank-39 models:  min obj, 0.87;  max obj, 0.87;  time to fit, 10.2s\n"
          ],
          "name": "stdout"
        },
        {
          "output_type": "stream",
          "text": [
            "                                                                     "
          ],
          "name": "stderr"
        },
        {
          "output_type": "stream",
          "text": [
            "Rank-40 models:  min obj, 0.87;  max obj, 0.87;  time to fit, 10.0s\n"
          ],
          "name": "stdout"
        },
        {
          "output_type": "stream",
          "text": [
            "                                                                     "
          ],
          "name": "stderr"
        },
        {
          "output_type": "stream",
          "text": [
            "Rank-41 models:  min obj, 0.87;  max obj, 0.87;  time to fit, 9.9s\n"
          ],
          "name": "stdout"
        },
        {
          "output_type": "stream",
          "text": [
            "                                                                     "
          ],
          "name": "stderr"
        },
        {
          "output_type": "stream",
          "text": [
            "Rank-42 models:  min obj, 0.87;  max obj, 0.87;  time to fit, 9.9s\n"
          ],
          "name": "stdout"
        },
        {
          "output_type": "stream",
          "text": [
            "                                                                     "
          ],
          "name": "stderr"
        },
        {
          "output_type": "stream",
          "text": [
            "Rank-43 models:  min obj, 0.87;  max obj, 0.87;  time to fit, 10.7s\n"
          ],
          "name": "stdout"
        },
        {
          "output_type": "stream",
          "text": [
            "                                                                     "
          ],
          "name": "stderr"
        },
        {
          "output_type": "stream",
          "text": [
            "Rank-44 models:  min obj, 0.86;  max obj, 0.87;  time to fit, 11.1s\n"
          ],
          "name": "stdout"
        },
        {
          "output_type": "stream",
          "text": [
            "                                                                     "
          ],
          "name": "stderr"
        },
        {
          "output_type": "stream",
          "text": [
            "Rank-45 models:  min obj, 0.87;  max obj, 0.87;  time to fit, 11.0s\n"
          ],
          "name": "stdout"
        },
        {
          "output_type": "stream",
          "text": [
            "                                                                     "
          ],
          "name": "stderr"
        },
        {
          "output_type": "stream",
          "text": [
            "Rank-46 models:  min obj, 0.86;  max obj, 0.87;  time to fit, 12.0s\n"
          ],
          "name": "stdout"
        },
        {
          "output_type": "stream",
          "text": [
            "                                                                     "
          ],
          "name": "stderr"
        },
        {
          "output_type": "stream",
          "text": [
            "Rank-47 models:  min obj, 0.86;  max obj, 0.86;  time to fit, 12.0s\n"
          ],
          "name": "stdout"
        },
        {
          "output_type": "stream",
          "text": [
            "                                                                     "
          ],
          "name": "stderr"
        },
        {
          "output_type": "stream",
          "text": [
            "Rank-48 models:  min obj, 0.86;  max obj, 0.86;  time to fit, 12.0s\n"
          ],
          "name": "stdout"
        },
        {
          "output_type": "stream",
          "text": [
            "                                                                     "
          ],
          "name": "stderr"
        },
        {
          "output_type": "stream",
          "text": [
            "Rank-49 models:  min obj, 0.86;  max obj, 0.86;  time to fit, 12.3s\n"
          ],
          "name": "stdout"
        },
        {
          "output_type": "stream",
          "text": [
            "                                                                     "
          ],
          "name": "stderr"
        },
        {
          "output_type": "stream",
          "text": [
            "Rank-50 models:  min obj, 0.86;  max obj, 0.86;  time to fit, 12.0s\n"
          ],
          "name": "stdout"
        },
        {
          "output_type": "stream",
          "text": [
            "                                                                     "
          ],
          "name": "stderr"
        },
        {
          "output_type": "stream",
          "text": [
            "Rank-51 models:  min obj, 0.86;  max obj, 0.86;  time to fit, 13.6s\n"
          ],
          "name": "stdout"
        },
        {
          "output_type": "stream",
          "text": [
            "                                                                     "
          ],
          "name": "stderr"
        },
        {
          "output_type": "stream",
          "text": [
            "Rank-52 models:  min obj, 0.86;  max obj, 0.86;  time to fit, 13.1s\n"
          ],
          "name": "stdout"
        },
        {
          "output_type": "stream",
          "text": [
            "                                                                     "
          ],
          "name": "stderr"
        },
        {
          "output_type": "stream",
          "text": [
            "Rank-53 models:  min obj, 0.86;  max obj, 0.86;  time to fit, 13.5s\n"
          ],
          "name": "stdout"
        },
        {
          "output_type": "stream",
          "text": [
            "                                                                     "
          ],
          "name": "stderr"
        },
        {
          "output_type": "stream",
          "text": [
            "Rank-54 models:  min obj, 0.86;  max obj, 0.86;  time to fit, 12.9s\n"
          ],
          "name": "stdout"
        },
        {
          "output_type": "stream",
          "text": [
            "                                                                     "
          ],
          "name": "stderr"
        },
        {
          "output_type": "stream",
          "text": [
            "Rank-55 models:  min obj, 0.86;  max obj, 0.86;  time to fit, 14.7s\n"
          ],
          "name": "stdout"
        },
        {
          "output_type": "stream",
          "text": [
            "                                                                     "
          ],
          "name": "stderr"
        },
        {
          "output_type": "stream",
          "text": [
            "Rank-56 models:  min obj, 0.86;  max obj, 0.86;  time to fit, 14.8s\n"
          ],
          "name": "stdout"
        },
        {
          "output_type": "stream",
          "text": [
            "                                                                     "
          ],
          "name": "stderr"
        },
        {
          "output_type": "stream",
          "text": [
            "Rank-57 models:  min obj, 0.86;  max obj, 0.86;  time to fit, 14.3s\n"
          ],
          "name": "stdout"
        },
        {
          "output_type": "stream",
          "text": [
            "                                                                     "
          ],
          "name": "stderr"
        },
        {
          "output_type": "stream",
          "text": [
            "Rank-58 models:  min obj, 0.86;  max obj, 0.86;  time to fit, 14.5s\n"
          ],
          "name": "stdout"
        },
        {
          "output_type": "stream",
          "text": [
            "                                                                     "
          ],
          "name": "stderr"
        },
        {
          "output_type": "stream",
          "text": [
            "Rank-59 models:  min obj, 0.86;  max obj, 0.86;  time to fit, 14.7s\n"
          ],
          "name": "stdout"
        },
        {
          "output_type": "stream",
          "text": [
            "                                                                     "
          ],
          "name": "stderr"
        },
        {
          "output_type": "stream",
          "text": [
            "Rank-60 models:  min obj, 0.86;  max obj, 0.86;  time to fit, 14.8s\n"
          ],
          "name": "stdout"
        },
        {
          "output_type": "stream",
          "text": [
            "                                                                     "
          ],
          "name": "stderr"
        },
        {
          "output_type": "stream",
          "text": [
            "Rank-61 models:  min obj, 0.86;  max obj, 0.86;  time to fit, 15.1s\n"
          ],
          "name": "stdout"
        },
        {
          "output_type": "stream",
          "text": [
            "                                                                     "
          ],
          "name": "stderr"
        },
        {
          "output_type": "stream",
          "text": [
            "Rank-62 models:  min obj, 0.86;  max obj, 0.86;  time to fit, 15.4s\n"
          ],
          "name": "stdout"
        },
        {
          "output_type": "stream",
          "text": [
            "                                                                     "
          ],
          "name": "stderr"
        },
        {
          "output_type": "stream",
          "text": [
            "Rank-63 models:  min obj, 0.86;  max obj, 0.86;  time to fit, 15.4s\n"
          ],
          "name": "stdout"
        },
        {
          "output_type": "stream",
          "text": [
            "                                                                     "
          ],
          "name": "stderr"
        },
        {
          "output_type": "stream",
          "text": [
            "Rank-64 models:  min obj, 0.86;  max obj, 0.86;  time to fit, 14.6s\n"
          ],
          "name": "stdout"
        },
        {
          "output_type": "stream",
          "text": [
            "                                                                     "
          ],
          "name": "stderr"
        },
        {
          "output_type": "stream",
          "text": [
            "Rank-65 models:  min obj, 0.86;  max obj, 0.86;  time to fit, 16.7s\n"
          ],
          "name": "stdout"
        },
        {
          "output_type": "stream",
          "text": [
            "                                                                     "
          ],
          "name": "stderr"
        },
        {
          "output_type": "stream",
          "text": [
            "Rank-66 models:  min obj, 0.86;  max obj, 0.86;  time to fit, 17.2s\n"
          ],
          "name": "stdout"
        },
        {
          "output_type": "stream",
          "text": [
            "                                                                     "
          ],
          "name": "stderr"
        },
        {
          "output_type": "stream",
          "text": [
            "Rank-67 models:  min obj, 0.86;  max obj, 0.86;  time to fit, 16.8s\n"
          ],
          "name": "stdout"
        },
        {
          "output_type": "stream",
          "text": [
            "                                                                     "
          ],
          "name": "stderr"
        },
        {
          "output_type": "stream",
          "text": [
            "Rank-68 models:  min obj, 0.85;  max obj, 0.86;  time to fit, 16.9s\n"
          ],
          "name": "stdout"
        },
        {
          "output_type": "stream",
          "text": [
            "                                                                     "
          ],
          "name": "stderr"
        },
        {
          "output_type": "stream",
          "text": [
            "Rank-69 models:  min obj, 0.85;  max obj, 0.86;  time to fit, 17.8s\n"
          ],
          "name": "stdout"
        },
        {
          "output_type": "stream",
          "text": [
            "                                                                     "
          ],
          "name": "stderr"
        },
        {
          "output_type": "stream",
          "text": [
            "Rank-70 models:  min obj, 0.85;  max obj, 0.85;  time to fit, 17.8s\n"
          ],
          "name": "stdout"
        },
        {
          "output_type": "stream",
          "text": [
            "                                                                     "
          ],
          "name": "stderr"
        },
        {
          "output_type": "stream",
          "text": [
            "Rank-71 models:  min obj, 0.85;  max obj, 0.85;  time to fit, 16.7s\n"
          ],
          "name": "stdout"
        },
        {
          "output_type": "stream",
          "text": [
            "                                                                     "
          ],
          "name": "stderr"
        },
        {
          "output_type": "stream",
          "text": [
            "Rank-72 models:  min obj, 0.85;  max obj, 0.85;  time to fit, 17.5s\n"
          ],
          "name": "stdout"
        },
        {
          "output_type": "stream",
          "text": [
            "                                                                     "
          ],
          "name": "stderr"
        },
        {
          "output_type": "stream",
          "text": [
            "Rank-73 models:  min obj, 0.85;  max obj, 0.85;  time to fit, 17.5s\n"
          ],
          "name": "stdout"
        },
        {
          "output_type": "stream",
          "text": [
            "                                                                     "
          ],
          "name": "stderr"
        },
        {
          "output_type": "stream",
          "text": [
            "Rank-74 models:  min obj, 0.85;  max obj, 0.85;  time to fit, 18.4s\n"
          ],
          "name": "stdout"
        },
        {
          "output_type": "stream",
          "text": [
            "                                                                     "
          ],
          "name": "stderr"
        },
        {
          "output_type": "stream",
          "text": [
            "Rank-75 models:  min obj, 0.85;  max obj, 0.85;  time to fit, 18.0s\n"
          ],
          "name": "stdout"
        },
        {
          "output_type": "stream",
          "text": [
            "                                                                     "
          ],
          "name": "stderr"
        },
        {
          "output_type": "stream",
          "text": [
            "Rank-76 models:  min obj, 0.85;  max obj, 0.85;  time to fit, 18.2s\n"
          ],
          "name": "stdout"
        },
        {
          "output_type": "stream",
          "text": [
            "                                                                     "
          ],
          "name": "stderr"
        },
        {
          "output_type": "stream",
          "text": [
            "Rank-77 models:  min obj, 0.85;  max obj, 0.85;  time to fit, 18.6s\n"
          ],
          "name": "stdout"
        },
        {
          "output_type": "stream",
          "text": [
            "                                                                     "
          ],
          "name": "stderr"
        },
        {
          "output_type": "stream",
          "text": [
            "Rank-78 models:  min obj, 0.85;  max obj, 0.85;  time to fit, 18.3s\n"
          ],
          "name": "stdout"
        },
        {
          "output_type": "stream",
          "text": [
            "                                                                     "
          ],
          "name": "stderr"
        },
        {
          "output_type": "stream",
          "text": [
            "Rank-79 models:  min obj, 0.85;  max obj, 0.85;  time to fit, 19.1s\n"
          ],
          "name": "stdout"
        },
        {
          "output_type": "stream",
          "text": [
            "                                                                     "
          ],
          "name": "stderr"
        },
        {
          "output_type": "stream",
          "text": [
            "Rank-80 models:  min obj, 0.85;  max obj, 0.85;  time to fit, 18.6s\n"
          ],
          "name": "stdout"
        },
        {
          "output_type": "stream",
          "text": [
            "                                                                     "
          ],
          "name": "stderr"
        },
        {
          "output_type": "stream",
          "text": [
            "Rank-81 models:  min obj, 0.85;  max obj, 0.85;  time to fit, 20.0s\n"
          ],
          "name": "stdout"
        },
        {
          "output_type": "stream",
          "text": [
            "                                                                     "
          ],
          "name": "stderr"
        },
        {
          "output_type": "stream",
          "text": [
            "Rank-82 models:  min obj, 0.85;  max obj, 0.85;  time to fit, 19.3s\n"
          ],
          "name": "stdout"
        },
        {
          "output_type": "stream",
          "text": [
            "                                                                     "
          ],
          "name": "stderr"
        },
        {
          "output_type": "stream",
          "text": [
            "Rank-83 models:  min obj, 0.85;  max obj, 0.85;  time to fit, 19.4s\n"
          ],
          "name": "stdout"
        },
        {
          "output_type": "stream",
          "text": [
            "                                                                     "
          ],
          "name": "stderr"
        },
        {
          "output_type": "stream",
          "text": [
            "Rank-84 models:  min obj, 0.85;  max obj, 0.85;  time to fit, 19.4s\n"
          ],
          "name": "stdout"
        },
        {
          "output_type": "stream",
          "text": [
            "                                                                     "
          ],
          "name": "stderr"
        },
        {
          "output_type": "stream",
          "text": [
            "Rank-85 models:  min obj, 0.85;  max obj, 0.85;  time to fit, 19.8s\n"
          ],
          "name": "stdout"
        },
        {
          "output_type": "stream",
          "text": [
            "                                                                     "
          ],
          "name": "stderr"
        },
        {
          "output_type": "stream",
          "text": [
            "Rank-86 models:  min obj, 0.85;  max obj, 0.85;  time to fit, 19.9s\n"
          ],
          "name": "stdout"
        },
        {
          "output_type": "stream",
          "text": [
            "                                                                     "
          ],
          "name": "stderr"
        },
        {
          "output_type": "stream",
          "text": [
            "Rank-87 models:  min obj, 0.85;  max obj, 0.85;  time to fit, 20.0s\n"
          ],
          "name": "stdout"
        },
        {
          "output_type": "stream",
          "text": [
            "                                                                     "
          ],
          "name": "stderr"
        },
        {
          "output_type": "stream",
          "text": [
            "Rank-88 models:  min obj, 0.85;  max obj, 0.85;  time to fit, 21.2s\n"
          ],
          "name": "stdout"
        },
        {
          "output_type": "stream",
          "text": [
            "                                                                     "
          ],
          "name": "stderr"
        },
        {
          "output_type": "stream",
          "text": [
            "Rank-89 models:  min obj, 0.85;  max obj, 0.85;  time to fit, 20.3s\n"
          ],
          "name": "stdout"
        },
        {
          "output_type": "stream",
          "text": [
            "                                                                     "
          ],
          "name": "stderr"
        },
        {
          "output_type": "stream",
          "text": [
            "Rank-90 models:  min obj, 0.85;  max obj, 0.85;  time to fit, 21.0s\n"
          ],
          "name": "stdout"
        },
        {
          "output_type": "stream",
          "text": [
            "                                                                     "
          ],
          "name": "stderr"
        },
        {
          "output_type": "stream",
          "text": [
            "Rank-91 models:  min obj, 0.85;  max obj, 0.85;  time to fit, 20.8s\n"
          ],
          "name": "stdout"
        },
        {
          "output_type": "stream",
          "text": [
            "                                                                     "
          ],
          "name": "stderr"
        },
        {
          "output_type": "stream",
          "text": [
            "Rank-92 models:  min obj, 0.85;  max obj, 0.85;  time to fit, 21.7s\n"
          ],
          "name": "stdout"
        },
        {
          "output_type": "stream",
          "text": [
            "                                                                     "
          ],
          "name": "stderr"
        },
        {
          "output_type": "stream",
          "text": [
            "Rank-93 models:  min obj, 0.85;  max obj, 0.85;  time to fit, 21.9s\n"
          ],
          "name": "stdout"
        },
        {
          "output_type": "stream",
          "text": [
            "                                                                     "
          ],
          "name": "stderr"
        },
        {
          "output_type": "stream",
          "text": [
            "Rank-94 models:  min obj, 0.84;  max obj, 0.85;  time to fit, 22.6s\n"
          ],
          "name": "stdout"
        },
        {
          "output_type": "stream",
          "text": [
            "                                                                     "
          ],
          "name": "stderr"
        },
        {
          "output_type": "stream",
          "text": [
            "Rank-95 models:  min obj, 0.84;  max obj, 0.85;  time to fit, 22.8s\n"
          ],
          "name": "stdout"
        },
        {
          "output_type": "stream",
          "text": [
            "                                                                     "
          ],
          "name": "stderr"
        },
        {
          "output_type": "stream",
          "text": [
            "Rank-96 models:  min obj, 0.84;  max obj, 0.85;  time to fit, 23.2s\n"
          ],
          "name": "stdout"
        },
        {
          "output_type": "stream",
          "text": [
            "                                                                     "
          ],
          "name": "stderr"
        },
        {
          "output_type": "stream",
          "text": [
            "Rank-97 models:  min obj, 0.84;  max obj, 0.84;  time to fit, 24.2s\n"
          ],
          "name": "stdout"
        },
        {
          "output_type": "stream",
          "text": [
            "                                                                     "
          ],
          "name": "stderr"
        },
        {
          "output_type": "stream",
          "text": [
            "Rank-98 models:  min obj, 0.84;  max obj, 0.84;  time to fit, 25.2s\n"
          ],
          "name": "stdout"
        },
        {
          "output_type": "stream",
          "text": [
            "                                                                     "
          ],
          "name": "stderr"
        },
        {
          "output_type": "stream",
          "text": [
            "Rank-99 models:  min obj, 0.84;  max obj, 0.84;  time to fit, 25.8s\n"
          ],
          "name": "stdout"
        },
        {
          "output_type": "stream",
          "text": [
            "                                                            "
          ],
          "name": "stderr"
        },
        {
          "output_type": "stream",
          "text": [
            "Rank-1 models:  min obj, 0.91;  max obj, 0.91;  time to fit, 0.1s\n"
          ],
          "name": "stdout"
        },
        {
          "output_type": "stream",
          "text": [
            "                                                                    "
          ],
          "name": "stderr"
        },
        {
          "output_type": "stream",
          "text": [
            "Rank-2 models:  min obj, 0.90;  max obj, 0.90;  time to fit, 0.4s\n"
          ],
          "name": "stdout"
        },
        {
          "output_type": "stream",
          "text": [
            "                                                                    "
          ],
          "name": "stderr"
        },
        {
          "output_type": "stream",
          "text": [
            "Rank-3 models:  min obj, 0.90;  max obj, 0.90;  time to fit, 0.5s\n"
          ],
          "name": "stdout"
        },
        {
          "output_type": "stream",
          "text": [
            "                                                                    "
          ],
          "name": "stderr"
        },
        {
          "output_type": "stream",
          "text": [
            "Rank-4 models:  min obj, 0.89;  max obj, 0.89;  time to fit, 0.5s\n"
          ],
          "name": "stdout"
        },
        {
          "output_type": "stream",
          "text": [
            "                                                                    "
          ],
          "name": "stderr"
        },
        {
          "output_type": "stream",
          "text": [
            "Rank-5 models:  min obj, 0.89;  max obj, 0.89;  time to fit, 0.5s\n"
          ],
          "name": "stdout"
        },
        {
          "output_type": "stream",
          "text": [
            "                                                                    "
          ],
          "name": "stderr"
        },
        {
          "output_type": "stream",
          "text": [
            "Rank-6 models:  min obj, 0.89;  max obj, 0.89;  time to fit, 0.6s\n"
          ],
          "name": "stdout"
        },
        {
          "output_type": "stream",
          "text": [
            "                                                                    "
          ],
          "name": "stderr"
        },
        {
          "output_type": "stream",
          "text": [
            "Rank-7 models:  min obj, 0.89;  max obj, 0.89;  time to fit, 0.6s\n"
          ],
          "name": "stdout"
        },
        {
          "output_type": "stream",
          "text": [
            "                                                                    "
          ],
          "name": "stderr"
        },
        {
          "output_type": "stream",
          "text": [
            "Rank-8 models:  min obj, 0.89;  max obj, 0.89;  time to fit, 0.6s\n"
          ],
          "name": "stdout"
        },
        {
          "output_type": "stream",
          "text": [
            "                                                                    "
          ],
          "name": "stderr"
        },
        {
          "output_type": "stream",
          "text": [
            "Rank-9 models:  min obj, 0.89;  max obj, 0.89;  time to fit, 0.8s\n"
          ],
          "name": "stdout"
        },
        {
          "output_type": "stream",
          "text": [
            "                                                                     "
          ],
          "name": "stderr"
        },
        {
          "output_type": "stream",
          "text": [
            "Rank-10 models:  min obj, 0.89;  max obj, 0.89;  time to fit, 0.9s\n"
          ],
          "name": "stdout"
        },
        {
          "output_type": "stream",
          "text": [
            "                                                                     "
          ],
          "name": "stderr"
        },
        {
          "output_type": "stream",
          "text": [
            "Rank-11 models:  min obj, 0.88;  max obj, 0.89;  time to fit, 1.0s\n"
          ],
          "name": "stdout"
        },
        {
          "output_type": "stream",
          "text": [
            "                                                                     "
          ],
          "name": "stderr"
        },
        {
          "output_type": "stream",
          "text": [
            "Rank-12 models:  min obj, 0.88;  max obj, 0.88;  time to fit, 1.0s\n"
          ],
          "name": "stdout"
        },
        {
          "output_type": "stream",
          "text": [
            "                                                                     "
          ],
          "name": "stderr"
        },
        {
          "output_type": "stream",
          "text": [
            "Rank-13 models:  min obj, 0.88;  max obj, 0.88;  time to fit, 1.0s\n"
          ],
          "name": "stdout"
        },
        {
          "output_type": "stream",
          "text": [
            "                                                                     "
          ],
          "name": "stderr"
        },
        {
          "output_type": "stream",
          "text": [
            "Rank-14 models:  min obj, 0.88;  max obj, 0.88;  time to fit, 1.1s\n"
          ],
          "name": "stdout"
        },
        {
          "output_type": "stream",
          "text": [
            "                                                                     "
          ],
          "name": "stderr"
        },
        {
          "output_type": "stream",
          "text": [
            "Rank-15 models:  min obj, 0.88;  max obj, 0.88;  time to fit, 1.2s\n"
          ],
          "name": "stdout"
        },
        {
          "output_type": "stream",
          "text": [
            "                                                                     "
          ],
          "name": "stderr"
        },
        {
          "output_type": "stream",
          "text": [
            "Rank-16 models:  min obj, 0.88;  max obj, 0.88;  time to fit, 1.1s\n"
          ],
          "name": "stdout"
        },
        {
          "output_type": "stream",
          "text": [
            "                                                                     "
          ],
          "name": "stderr"
        },
        {
          "output_type": "stream",
          "text": [
            "Rank-17 models:  min obj, 0.88;  max obj, 0.88;  time to fit, 1.1s\n"
          ],
          "name": "stdout"
        },
        {
          "output_type": "stream",
          "text": [
            "                                                                     "
          ],
          "name": "stderr"
        },
        {
          "output_type": "stream",
          "text": [
            "Rank-18 models:  min obj, 0.88;  max obj, 0.88;  time to fit, 1.2s\n"
          ],
          "name": "stdout"
        },
        {
          "output_type": "stream",
          "text": [
            "                                                                     "
          ],
          "name": "stderr"
        },
        {
          "output_type": "stream",
          "text": [
            "Rank-19 models:  min obj, 0.88;  max obj, 0.88;  time to fit, 1.4s\n"
          ],
          "name": "stdout"
        },
        {
          "output_type": "stream",
          "text": [
            "                                                                     "
          ],
          "name": "stderr"
        },
        {
          "output_type": "stream",
          "text": [
            "Rank-20 models:  min obj, 0.88;  max obj, 0.88;  time to fit, 1.4s\n"
          ],
          "name": "stdout"
        },
        {
          "output_type": "stream",
          "text": [
            "                                                                     "
          ],
          "name": "stderr"
        },
        {
          "output_type": "stream",
          "text": [
            "Rank-21 models:  min obj, 0.88;  max obj, 0.88;  time to fit, 1.4s\n"
          ],
          "name": "stdout"
        },
        {
          "output_type": "stream",
          "text": [
            "                                                                     "
          ],
          "name": "stderr"
        },
        {
          "output_type": "stream",
          "text": [
            "Rank-22 models:  min obj, 0.88;  max obj, 0.88;  time to fit, 1.3s\n"
          ],
          "name": "stdout"
        },
        {
          "output_type": "stream",
          "text": [
            "                                                                     "
          ],
          "name": "stderr"
        },
        {
          "output_type": "stream",
          "text": [
            "Rank-23 models:  min obj, 0.88;  max obj, 0.88;  time to fit, 1.7s\n"
          ],
          "name": "stdout"
        },
        {
          "output_type": "stream",
          "text": [
            "                                                                     "
          ],
          "name": "stderr"
        },
        {
          "output_type": "stream",
          "text": [
            "Rank-24 models:  min obj, 0.87;  max obj, 0.88;  time to fit, 1.6s\n"
          ],
          "name": "stdout"
        },
        {
          "output_type": "stream",
          "text": [
            "                                                                     "
          ],
          "name": "stderr"
        },
        {
          "output_type": "stream",
          "text": [
            "Rank-25 models:  min obj, 0.87;  max obj, 0.88;  time to fit, 1.6s\n"
          ],
          "name": "stdout"
        },
        {
          "output_type": "stream",
          "text": [
            "                                                                     "
          ],
          "name": "stderr"
        },
        {
          "output_type": "stream",
          "text": [
            "Rank-26 models:  min obj, 0.87;  max obj, 0.87;  time to fit, 1.9s\n"
          ],
          "name": "stdout"
        },
        {
          "output_type": "stream",
          "text": [
            "                                                                     "
          ],
          "name": "stderr"
        },
        {
          "output_type": "stream",
          "text": [
            "Rank-27 models:  min obj, 0.87;  max obj, 0.87;  time to fit, 2.0s\n"
          ],
          "name": "stdout"
        },
        {
          "output_type": "stream",
          "text": [
            "                                                                     "
          ],
          "name": "stderr"
        },
        {
          "output_type": "stream",
          "text": [
            "Rank-28 models:  min obj, 0.87;  max obj, 0.87;  time to fit, 1.8s\n"
          ],
          "name": "stdout"
        },
        {
          "output_type": "stream",
          "text": [
            "                                                                     "
          ],
          "name": "stderr"
        },
        {
          "output_type": "stream",
          "text": [
            "Rank-29 models:  min obj, 0.87;  max obj, 0.87;  time to fit, 2.1s\n"
          ],
          "name": "stdout"
        },
        {
          "output_type": "stream",
          "text": [
            "                                                                     "
          ],
          "name": "stderr"
        },
        {
          "output_type": "stream",
          "text": [
            "Rank-30 models:  min obj, 0.87;  max obj, 0.87;  time to fit, 2.0s\n"
          ],
          "name": "stdout"
        },
        {
          "output_type": "stream",
          "text": [
            "                                                                     "
          ],
          "name": "stderr"
        },
        {
          "output_type": "stream",
          "text": [
            "Rank-31 models:  min obj, 0.87;  max obj, 0.87;  time to fit, 1.9s\n"
          ],
          "name": "stdout"
        },
        {
          "output_type": "stream",
          "text": [
            "                                                                     "
          ],
          "name": "stderr"
        },
        {
          "output_type": "stream",
          "text": [
            "Rank-32 models:  min obj, 0.87;  max obj, 0.87;  time to fit, 2.2s\n"
          ],
          "name": "stdout"
        },
        {
          "output_type": "stream",
          "text": [
            "                                                                     "
          ],
          "name": "stderr"
        },
        {
          "output_type": "stream",
          "text": [
            "Rank-33 models:  min obj, 0.87;  max obj, 0.87;  time to fit, 2.1s\n"
          ],
          "name": "stdout"
        },
        {
          "output_type": "stream",
          "text": [
            "                                                                     "
          ],
          "name": "stderr"
        },
        {
          "output_type": "stream",
          "text": [
            "Rank-34 models:  min obj, 0.87;  max obj, 0.87;  time to fit, 2.2s\n"
          ],
          "name": "stdout"
        },
        {
          "output_type": "stream",
          "text": [
            "                                                                     "
          ],
          "name": "stderr"
        },
        {
          "output_type": "stream",
          "text": [
            "Rank-35 models:  min obj, 0.87;  max obj, 0.87;  time to fit, 3.0s\n"
          ],
          "name": "stdout"
        },
        {
          "output_type": "stream",
          "text": [
            "                                                                     "
          ],
          "name": "stderr"
        },
        {
          "output_type": "stream",
          "text": [
            "Rank-36 models:  min obj, 0.87;  max obj, 0.87;  time to fit, 2.5s\n"
          ],
          "name": "stdout"
        },
        {
          "output_type": "stream",
          "text": [
            "                                                                     "
          ],
          "name": "stderr"
        },
        {
          "output_type": "stream",
          "text": [
            "Rank-37 models:  min obj, 0.87;  max obj, 0.87;  time to fit, 2.3s\n"
          ],
          "name": "stdout"
        },
        {
          "output_type": "stream",
          "text": [
            "                                                                     "
          ],
          "name": "stderr"
        },
        {
          "output_type": "stream",
          "text": [
            "Rank-38 models:  min obj, 0.87;  max obj, 0.87;  time to fit, 2.7s\n"
          ],
          "name": "stdout"
        },
        {
          "output_type": "stream",
          "text": [
            "                                                                     "
          ],
          "name": "stderr"
        },
        {
          "output_type": "stream",
          "text": [
            "Rank-39 models:  min obj, 0.87;  max obj, 0.87;  time to fit, 2.9s\n"
          ],
          "name": "stdout"
        },
        {
          "output_type": "stream",
          "text": [
            "                                                                     "
          ],
          "name": "stderr"
        },
        {
          "output_type": "stream",
          "text": [
            "Rank-40 models:  min obj, 0.87;  max obj, 0.87;  time to fit, 2.7s\n"
          ],
          "name": "stdout"
        },
        {
          "output_type": "stream",
          "text": [
            "                                                                     "
          ],
          "name": "stderr"
        },
        {
          "output_type": "stream",
          "text": [
            "Rank-41 models:  min obj, 0.87;  max obj, 0.87;  time to fit, 2.6s\n"
          ],
          "name": "stdout"
        },
        {
          "output_type": "stream",
          "text": [
            "                                                                     "
          ],
          "name": "stderr"
        },
        {
          "output_type": "stream",
          "text": [
            "Rank-42 models:  min obj, 0.86;  max obj, 0.87;  time to fit, 3.0s\n"
          ],
          "name": "stdout"
        },
        {
          "output_type": "stream",
          "text": [
            "                                                                     "
          ],
          "name": "stderr"
        },
        {
          "output_type": "stream",
          "text": [
            "Rank-43 models:  min obj, 0.86;  max obj, 0.86;  time to fit, 3.1s\n"
          ],
          "name": "stdout"
        },
        {
          "output_type": "stream",
          "text": [
            "                                                                     "
          ],
          "name": "stderr"
        },
        {
          "output_type": "stream",
          "text": [
            "Rank-44 models:  min obj, 0.86;  max obj, 0.86;  time to fit, 3.3s\n"
          ],
          "name": "stdout"
        },
        {
          "output_type": "stream",
          "text": [
            "                                                                     "
          ],
          "name": "stderr"
        },
        {
          "output_type": "stream",
          "text": [
            "Rank-45 models:  min obj, 0.86;  max obj, 0.86;  time to fit, 3.3s\n"
          ],
          "name": "stdout"
        },
        {
          "output_type": "stream",
          "text": [
            "                                                                     "
          ],
          "name": "stderr"
        },
        {
          "output_type": "stream",
          "text": [
            "Rank-46 models:  min obj, 0.86;  max obj, 0.86;  time to fit, 3.4s\n"
          ],
          "name": "stdout"
        },
        {
          "output_type": "stream",
          "text": [
            "                                                                     "
          ],
          "name": "stderr"
        },
        {
          "output_type": "stream",
          "text": [
            "Rank-47 models:  min obj, 0.86;  max obj, 0.86;  time to fit, 3.5s\n"
          ],
          "name": "stdout"
        },
        {
          "output_type": "stream",
          "text": [
            "                                                                     "
          ],
          "name": "stderr"
        },
        {
          "output_type": "stream",
          "text": [
            "Rank-48 models:  min obj, 0.86;  max obj, 0.86;  time to fit, 3.4s\n"
          ],
          "name": "stdout"
        },
        {
          "output_type": "stream",
          "text": [
            "                                                                     "
          ],
          "name": "stderr"
        },
        {
          "output_type": "stream",
          "text": [
            "Rank-49 models:  min obj, 0.86;  max obj, 0.86;  time to fit, 3.2s\n"
          ],
          "name": "stdout"
        },
        {
          "output_type": "stream",
          "text": [
            "                                                                     "
          ],
          "name": "stderr"
        },
        {
          "output_type": "stream",
          "text": [
            "Rank-50 models:  min obj, 0.86;  max obj, 0.86;  time to fit, 3.2s\n"
          ],
          "name": "stdout"
        },
        {
          "output_type": "stream",
          "text": [
            "                                                                     "
          ],
          "name": "stderr"
        },
        {
          "output_type": "stream",
          "text": [
            "Rank-51 models:  min obj, 0.86;  max obj, 0.86;  time to fit, 4.0s\n"
          ],
          "name": "stdout"
        },
        {
          "output_type": "stream",
          "text": [
            "                                                                     "
          ],
          "name": "stderr"
        },
        {
          "output_type": "stream",
          "text": [
            "Rank-52 models:  min obj, 0.86;  max obj, 0.86;  time to fit, 3.5s\n"
          ],
          "name": "stdout"
        },
        {
          "output_type": "stream",
          "text": [
            "                                                                     "
          ],
          "name": "stderr"
        },
        {
          "output_type": "stream",
          "text": [
            "Rank-53 models:  min obj, 0.86;  max obj, 0.86;  time to fit, 3.8s\n"
          ],
          "name": "stdout"
        },
        {
          "output_type": "stream",
          "text": [
            "                                                                     "
          ],
          "name": "stderr"
        },
        {
          "output_type": "stream",
          "text": [
            "Rank-54 models:  min obj, 0.86;  max obj, 0.86;  time to fit, 3.6s\n"
          ],
          "name": "stdout"
        },
        {
          "output_type": "stream",
          "text": [
            "                                                                     "
          ],
          "name": "stderr"
        },
        {
          "output_type": "stream",
          "text": [
            "Rank-55 models:  min obj, 0.86;  max obj, 0.86;  time to fit, 4.3s\n"
          ],
          "name": "stdout"
        },
        {
          "output_type": "stream",
          "text": [
            "                                                                     "
          ],
          "name": "stderr"
        },
        {
          "output_type": "stream",
          "text": [
            "Rank-56 models:  min obj, 0.86;  max obj, 0.86;  time to fit, 3.8s\n"
          ],
          "name": "stdout"
        },
        {
          "output_type": "stream",
          "text": [
            "                                                                     "
          ],
          "name": "stderr"
        },
        {
          "output_type": "stream",
          "text": [
            "Rank-57 models:  min obj, 0.86;  max obj, 0.86;  time to fit, 4.0s\n"
          ],
          "name": "stdout"
        },
        {
          "output_type": "stream",
          "text": [
            "                                                                     "
          ],
          "name": "stderr"
        },
        {
          "output_type": "stream",
          "text": [
            "Rank-58 models:  min obj, 0.86;  max obj, 0.86;  time to fit, 4.1s\n"
          ],
          "name": "stdout"
        },
        {
          "output_type": "stream",
          "text": [
            "                                                                     "
          ],
          "name": "stderr"
        },
        {
          "output_type": "stream",
          "text": [
            "Rank-59 models:  min obj, 0.86;  max obj, 0.86;  time to fit, 4.8s\n"
          ],
          "name": "stdout"
        },
        {
          "output_type": "stream",
          "text": [
            "                                                                     "
          ],
          "name": "stderr"
        },
        {
          "output_type": "stream",
          "text": [
            "Rank-60 models:  min obj, 0.86;  max obj, 0.86;  time to fit, 4.3s\n"
          ],
          "name": "stdout"
        },
        {
          "output_type": "stream",
          "text": [
            "                                                                     "
          ],
          "name": "stderr"
        },
        {
          "output_type": "stream",
          "text": [
            "Rank-61 models:  min obj, 0.86;  max obj, 0.86;  time to fit, 4.7s\n"
          ],
          "name": "stdout"
        },
        {
          "output_type": "stream",
          "text": [
            "                                                                     "
          ],
          "name": "stderr"
        },
        {
          "output_type": "stream",
          "text": [
            "Rank-62 models:  min obj, 0.86;  max obj, 0.86;  time to fit, 5.1s\n"
          ],
          "name": "stdout"
        },
        {
          "output_type": "stream",
          "text": [
            "                                                                     "
          ],
          "name": "stderr"
        },
        {
          "output_type": "stream",
          "text": [
            "Rank-63 models:  min obj, 0.86;  max obj, 0.86;  time to fit, 4.8s\n"
          ],
          "name": "stdout"
        },
        {
          "output_type": "stream",
          "text": [
            "                                                                     "
          ],
          "name": "stderr"
        },
        {
          "output_type": "stream",
          "text": [
            "Rank-64 models:  min obj, 0.86;  max obj, 0.86;  time to fit, 4.4s\n"
          ],
          "name": "stdout"
        },
        {
          "output_type": "stream",
          "text": [
            "                                                                     "
          ],
          "name": "stderr"
        },
        {
          "output_type": "stream",
          "text": [
            "Rank-65 models:  min obj, 0.85;  max obj, 0.86;  time to fit, 4.9s\n"
          ],
          "name": "stdout"
        },
        {
          "output_type": "stream",
          "text": [
            "                                                                     "
          ],
          "name": "stderr"
        },
        {
          "output_type": "stream",
          "text": [
            "Rank-66 models:  min obj, 0.85;  max obj, 0.85;  time to fit, 5.1s\n"
          ],
          "name": "stdout"
        },
        {
          "output_type": "stream",
          "text": [
            "                                                                     "
          ],
          "name": "stderr"
        },
        {
          "output_type": "stream",
          "text": [
            "Rank-67 models:  min obj, 0.85;  max obj, 0.85;  time to fit, 5.6s\n"
          ],
          "name": "stdout"
        },
        {
          "output_type": "stream",
          "text": [
            "                                                                     "
          ],
          "name": "stderr"
        },
        {
          "output_type": "stream",
          "text": [
            "Rank-68 models:  min obj, 0.85;  max obj, 0.85;  time to fit, 6.3s\n"
          ],
          "name": "stdout"
        },
        {
          "output_type": "stream",
          "text": [
            "                                                                     "
          ],
          "name": "stderr"
        },
        {
          "output_type": "stream",
          "text": [
            "Rank-69 models:  min obj, 0.85;  max obj, 0.85;  time to fit, 5.5s\n"
          ],
          "name": "stdout"
        },
        {
          "output_type": "stream",
          "text": [
            "                                                                     "
          ],
          "name": "stderr"
        },
        {
          "output_type": "stream",
          "text": [
            "Rank-70 models:  min obj, 0.85;  max obj, 0.85;  time to fit, 5.9s\n"
          ],
          "name": "stdout"
        },
        {
          "output_type": "stream",
          "text": [
            "                                                                     "
          ],
          "name": "stderr"
        },
        {
          "output_type": "stream",
          "text": [
            "Rank-71 models:  min obj, 0.85;  max obj, 0.85;  time to fit, 5.8s\n"
          ],
          "name": "stdout"
        },
        {
          "output_type": "stream",
          "text": [
            "                                                                     "
          ],
          "name": "stderr"
        },
        {
          "output_type": "stream",
          "text": [
            "Rank-72 models:  min obj, 0.85;  max obj, 0.85;  time to fit, 5.6s\n"
          ],
          "name": "stdout"
        },
        {
          "output_type": "stream",
          "text": [
            "                                                                     "
          ],
          "name": "stderr"
        },
        {
          "output_type": "stream",
          "text": [
            "Rank-73 models:  min obj, 0.85;  max obj, 0.85;  time to fit, 6.0s\n"
          ],
          "name": "stdout"
        },
        {
          "output_type": "stream",
          "text": [
            "                                                                     "
          ],
          "name": "stderr"
        },
        {
          "output_type": "stream",
          "text": [
            "Rank-74 models:  min obj, 0.85;  max obj, 0.85;  time to fit, 5.2s\n"
          ],
          "name": "stdout"
        },
        {
          "output_type": "stream",
          "text": [
            "                                                                     "
          ],
          "name": "stderr"
        },
        {
          "output_type": "stream",
          "text": [
            "Rank-75 models:  min obj, 0.85;  max obj, 0.85;  time to fit, 5.6s\n"
          ],
          "name": "stdout"
        },
        {
          "output_type": "stream",
          "text": [
            "                                                                     "
          ],
          "name": "stderr"
        },
        {
          "output_type": "stream",
          "text": [
            "Rank-76 models:  min obj, 0.85;  max obj, 0.85;  time to fit, 6.5s\n"
          ],
          "name": "stdout"
        },
        {
          "output_type": "stream",
          "text": [
            "                                                                     "
          ],
          "name": "stderr"
        },
        {
          "output_type": "stream",
          "text": [
            "Rank-77 models:  min obj, 0.85;  max obj, 0.85;  time to fit, 5.9s\n"
          ],
          "name": "stdout"
        },
        {
          "output_type": "stream",
          "text": [
            "                                                                     "
          ],
          "name": "stderr"
        },
        {
          "output_type": "stream",
          "text": [
            "Rank-78 models:  min obj, 0.85;  max obj, 0.85;  time to fit, 6.2s\n"
          ],
          "name": "stdout"
        },
        {
          "output_type": "stream",
          "text": [
            "                                                                     "
          ],
          "name": "stderr"
        },
        {
          "output_type": "stream",
          "text": [
            "Rank-79 models:  min obj, 0.85;  max obj, 0.85;  time to fit, 6.8s\n"
          ],
          "name": "stdout"
        },
        {
          "output_type": "stream",
          "text": [
            "                                                                     "
          ],
          "name": "stderr"
        },
        {
          "output_type": "stream",
          "text": [
            "Rank-80 models:  min obj, 0.85;  max obj, 0.85;  time to fit, 6.5s\n"
          ],
          "name": "stdout"
        },
        {
          "output_type": "stream",
          "text": [
            "                                                                     "
          ],
          "name": "stderr"
        },
        {
          "output_type": "stream",
          "text": [
            "Rank-81 models:  min obj, 0.85;  max obj, 0.85;  time to fit, 6.8s\n"
          ],
          "name": "stdout"
        },
        {
          "output_type": "stream",
          "text": [
            "                                                                     "
          ],
          "name": "stderr"
        },
        {
          "output_type": "stream",
          "text": [
            "Rank-82 models:  min obj, 0.85;  max obj, 0.85;  time to fit, 6.7s\n"
          ],
          "name": "stdout"
        },
        {
          "output_type": "stream",
          "text": [
            "                                                                     "
          ],
          "name": "stderr"
        },
        {
          "output_type": "stream",
          "text": [
            "Rank-83 models:  min obj, 0.85;  max obj, 0.85;  time to fit, 6.7s\n"
          ],
          "name": "stdout"
        },
        {
          "output_type": "stream",
          "text": [
            "                                                                     "
          ],
          "name": "stderr"
        },
        {
          "output_type": "stream",
          "text": [
            "Rank-84 models:  min obj, 0.85;  max obj, 0.85;  time to fit, 6.0s\n"
          ],
          "name": "stdout"
        },
        {
          "output_type": "stream",
          "text": [
            "                                                                     "
          ],
          "name": "stderr"
        },
        {
          "output_type": "stream",
          "text": [
            "Rank-85 models:  min obj, 0.85;  max obj, 0.85;  time to fit, 7.5s\n"
          ],
          "name": "stdout"
        },
        {
          "output_type": "stream",
          "text": [
            "                                                                     "
          ],
          "name": "stderr"
        },
        {
          "output_type": "stream",
          "text": [
            "Rank-86 models:  min obj, 0.85;  max obj, 0.85;  time to fit, 7.4s\n"
          ],
          "name": "stdout"
        },
        {
          "output_type": "stream",
          "text": [
            "                                                                     "
          ],
          "name": "stderr"
        },
        {
          "output_type": "stream",
          "text": [
            "Rank-87 models:  min obj, 0.85;  max obj, 0.85;  time to fit, 7.0s\n"
          ],
          "name": "stdout"
        },
        {
          "output_type": "stream",
          "text": [
            "                                                                     "
          ],
          "name": "stderr"
        },
        {
          "output_type": "stream",
          "text": [
            "Rank-88 models:  min obj, 0.85;  max obj, 0.85;  time to fit, 6.9s\n"
          ],
          "name": "stdout"
        },
        {
          "output_type": "stream",
          "text": [
            "                                                                     "
          ],
          "name": "stderr"
        },
        {
          "output_type": "stream",
          "text": [
            "Rank-89 models:  min obj, 0.85;  max obj, 0.85;  time to fit, 6.8s\n"
          ],
          "name": "stdout"
        },
        {
          "output_type": "stream",
          "text": [
            "                                                                     "
          ],
          "name": "stderr"
        },
        {
          "output_type": "stream",
          "text": [
            "Rank-90 models:  min obj, 0.84;  max obj, 0.85;  time to fit, 7.6s\n"
          ],
          "name": "stdout"
        },
        {
          "output_type": "stream",
          "text": [
            "                                                                     "
          ],
          "name": "stderr"
        },
        {
          "output_type": "stream",
          "text": [
            "Rank-91 models:  min obj, 0.84;  max obj, 0.85;  time to fit, 6.9s\n"
          ],
          "name": "stdout"
        },
        {
          "output_type": "stream",
          "text": [
            "                                                                     "
          ],
          "name": "stderr"
        },
        {
          "output_type": "stream",
          "text": [
            "Rank-92 models:  min obj, 0.84;  max obj, 0.84;  time to fit, 7.0s\n"
          ],
          "name": "stdout"
        },
        {
          "output_type": "stream",
          "text": [
            "                                                                     "
          ],
          "name": "stderr"
        },
        {
          "output_type": "stream",
          "text": [
            "Rank-93 models:  min obj, 0.84;  max obj, 0.84;  time to fit, 7.3s\n"
          ],
          "name": "stdout"
        },
        {
          "output_type": "stream",
          "text": [
            "                                                                     "
          ],
          "name": "stderr"
        },
        {
          "output_type": "stream",
          "text": [
            "Rank-94 models:  min obj, 0.84;  max obj, 0.84;  time to fit, 7.4s\n"
          ],
          "name": "stdout"
        },
        {
          "output_type": "stream",
          "text": [
            "                                                                     "
          ],
          "name": "stderr"
        },
        {
          "output_type": "stream",
          "text": [
            "Rank-95 models:  min obj, 0.84;  max obj, 0.84;  time to fit, 7.6s\n"
          ],
          "name": "stdout"
        },
        {
          "output_type": "stream",
          "text": [
            "                                                                     "
          ],
          "name": "stderr"
        },
        {
          "output_type": "stream",
          "text": [
            "Rank-96 models:  min obj, 0.84;  max obj, 0.84;  time to fit, 7.6s\n"
          ],
          "name": "stdout"
        },
        {
          "output_type": "stream",
          "text": [
            "                                                                     "
          ],
          "name": "stderr"
        },
        {
          "output_type": "stream",
          "text": [
            "Rank-97 models:  min obj, 0.84;  max obj, 0.84;  time to fit, 9.1s\n"
          ],
          "name": "stdout"
        },
        {
          "output_type": "stream",
          "text": [
            "                                                                     "
          ],
          "name": "stderr"
        },
        {
          "output_type": "stream",
          "text": [
            "Rank-98 models:  min obj, 0.84;  max obj, 0.84;  time to fit, 9.4s\n"
          ],
          "name": "stdout"
        },
        {
          "output_type": "stream",
          "text": [
            "                                                                     "
          ],
          "name": "stderr"
        },
        {
          "output_type": "stream",
          "text": [
            "Rank-99 models:  min obj, 0.84;  max obj, 0.84;  time to fit, 8.4s\n"
          ],
          "name": "stdout"
        },
        {
          "output_type": "stream",
          "text": [
            "\r"
          ],
          "name": "stderr"
        },
        {
          "output_type": "display_data",
          "data": {
            "image/png": "[encoded data removed]",
            "text/plain": [
              "<Figure size 432x288 with 1 Axes>"
            ]
          },
          "metadata": {
            "tags": [],
            "needs_background": "light"
          }
        },
        {
          "output_type": "display_data",
          "data": {
            "image/png": "[encoded data removed]",
            "text/plain": [
              "<Figure size 432x288 with 1 Axes>"
            ]
          },
          "metadata": {
            "tags": [],
            "needs_background": "light"
          }
        }
      ]
    },
    {
      "cell_type": "code",
      "metadata": {
        "id": "SJdPrzMCAr9E",
        "colab_type": "code",
        "colab": {
          "base_uri": "https://localhost:8080/",
          "height": 680
        },
        "outputId": "4619f311-b636-4bee-c9e3-d2f6b128e2fd"
      },
      "source": [
        "# X - tensor input \n",
        "# figure out what should be the rank of the input matrix \n",
        "\n",
        "X = firing_rate[2]\n",
        "R =3\n",
        "\n",
        "U = tt.cp_als(X, rank= R, verbose = True)\n",
        "V= tt.cp_als(X,rank=R,verbose=True)"
      ],
      "execution_count": null,
      "outputs": [
        {
          "output_type": "stream",
          "text": [
            "CP_ALS: iteration 1, objective 0.9552078457315368, improvement inf.\n",
            "CP_ALS: iteration 2, objective 0.9001241008665751, improvement 0.0550837448649617.\n",
            "CP_ALS: iteration 3, objective 0.8976450265043211, improvement 0.00247907436225403.\n",
            "CP_ALS: iteration 4, objective 0.8964525883366832, improvement 0.0011924381676379214.\n",
            "CP_ALS: iteration 5, objective 0.8960027106077266, improvement 0.0004498777289565492.\n",
            "CP_ALS: iteration 6, objective 0.8958302073834482, improvement 0.0001725032242784197.\n",
            "CP_ALS: iteration 7, objective 0.895713260831363, improvement 0.00011694655208516203.\n",
            "CP_ALS: iteration 8, objective 0.8956064541686433, improvement 0.00010680666271978279.\n",
            "CP_ALS: iteration 9, objective 0.8955010251498533, improvement 0.0001054290187899598.\n",
            "CP_ALS: iteration 10, objective 0.8953950827169324, improvement 0.00010594243292094685.\n",
            "CP_ALS: iteration 11, objective 0.895288514619034, improvement 0.00010656809789832966.\n",
            "CP_ALS: iteration 12, objective 0.8951818939350277, improvement 0.00010662068400635327.\n",
            "CP_ALS: iteration 13, objective 0.8950761904905773, improvement 0.00010570344445037794.\n",
            "CP_ALS: iteration 14, objective 0.8949726859722357, improvement 0.00010350451834162389.\n",
            "CP_ALS: iteration 15, objective 0.8948729556090703, improvement 9.973036316535122e-05.\n",
            "CP_ALS: iteration 16, objective 0.8947788630918571, improvement 9.409251721326228e-05.\n",
            "CP_ALS: iteration 17, objective 0.8946925016118529, improvement 8.636148000418231e-05.\n",
            "CP_ALS: iteration 18, objective 0.8946159949950395, improvement 7.650661681335436e-05.\n",
            "CP_ALS: iteration 19, objective 0.8945511188482045, improvement 6.487614683503562e-05.\n",
            "CP_ALS: iteration 20, objective 0.8944988353704822, improvement 5.228347772223696e-05.\n",
            "CP_ALS: iteration 21, objective 0.8944589689545984, improvement 3.986641588382689e-05.\n",
            "CP_ALS: iteration 22, objective 0.8944302291427959, improvement 2.8739811802513948e-05.\n",
            "CP_ALS: iteration 23, objective 0.8944105838357638, improvement 1.9645307032134518e-05.\n",
            "CP_ALS: iteration 24, objective 0.8943977773983862, improvement 1.2806437377554936e-05.\n",
            "CP_ALS: iteration 25, objective 0.8943897565643636, improvement 8.020834022626211e-06.\n",
            "Converged after 25 iterations, 0.6865650990002905 seconds. Objective: 0.8943897565643636.\n",
            "CP_ALS: iteration 1, objective 0.9964374425824811, improvement inf.\n",
            "CP_ALS: iteration 2, objective 0.9034480483493135, improvement 0.09298939423316765.\n",
            "CP_ALS: iteration 3, objective 0.8984529014294754, improvement 0.004995146919838045.\n",
            "CP_ALS: iteration 4, objective 0.8974596484747801, improvement 0.0009932529546953228.\n",
            "CP_ALS: iteration 5, objective 0.8966109664271026, improvement 0.0008486820476775181.\n",
            "CP_ALS: iteration 6, objective 0.895592300498565, improvement 0.0010186659285376098.\n",
            "CP_ALS: iteration 7, objective 0.89485752094826, improvement 0.000734779550304987.\n",
            "CP_ALS: iteration 8, objective 0.8945519879178174, improvement 0.00030553303044256186.\n",
            "CP_ALS: iteration 9, objective 0.8944498442863186, improvement 0.0001021436314988522.\n",
            "CP_ALS: iteration 10, objective 0.8944142844137729, improvement 3.555987254566517e-05.\n",
            "CP_ALS: iteration 11, objective 0.8944002132049305, improvement 1.4071208842447724e-05.\n",
            "CP_ALS: iteration 12, objective 0.8943939047887047, improvement 6.308416225730973e-06.\n",
            "Converged after 12 iterations, 0.31466301799991925 seconds. Objective: 0.8943939047887047.\n"
          ],
          "name": "stdout"
        }
      ]
    },
    {
      "cell_type": "code",
      "metadata": {
        "id": "SUQPlX3e-yfq",
        "colab_type": "code",
        "colab": {
          "base_uri": "https://localhost:8080/",
          "height": 245
        },
        "outputId": "ff4065c0-1714-418e-fa94-e6ff8818e369"
      },
      "source": [
        "fig, ax, po = tt.plot_factors(U.factors)\n",
        "#fig.figsize=(20,16)\n",
        "tt.plot_factors(V.factors, fig=fig)\n",
        "fig.suptitle(\"raw models\",y=1.04)\n",
        "fig.tight_layout()"
      ],
      "execution_count": null,
      "outputs": [
        {
          "output_type": "display_data",
          "data": {
            "image/png": "[encoded data removed]",
            "text/plain": [
              "<Figure size 576x216 with 9 Axes>"
            ]
          },
          "metadata": {
            "tags": [],
            "needs_background": "light"
          }
        }
      ]
    },
    {
      "cell_type": "code",
      "metadata": {
        "id": "K9lU95jtC3cc",
        "colab_type": "code",
        "colab": {
          "base_uri": "https://localhost:8080/",
          "height": 257
        },
        "outputId": "a45155ab-3081-4d48-a74f-7ee501137995"
      },
      "source": [
        "# Align the two fits and print a similarity score.\n",
        "sim = tt.kruskal_align(U.factors, V.factors, permute_U=True, permute_V=True) # sim is the similarity score \n",
        "print(sim)\n",
        "\n",
        "# Plot the results again to see alignment.\n",
        "fig, ax, po = tt.plot_factors(U.factors)\n",
        "tt.plot_factors(V.factors, fig=fig)\n",
        "fig.suptitle(\"aligned models\",y=1.02)\n",
        "fig.tight_layout()\n",
        "\n",
        "# Show plots.\n",
        "plt.show()"
      ],
      "execution_count": null,
      "outputs": [
        {
          "output_type": "stream",
          "text": [
            "0.8676319140746164\n"
          ],
          "name": "stdout"
        },
        {
          "output_type": "display_data",
          "data": {
            "image/png": "[encoded data removed]",
            "text/plain": [
              "<Figure size 576x216 with 9 Axes>"
            ]
          },
          "metadata": {
            "tags": [],
            "needs_background": "light"
          }
        }
      ]
    },
    {
      "cell_type": "code",
      "metadata": {
        "id": "YqcXG5DycOVi",
        "colab_type": "code",
        "colab": {
          "base_uri": "https://localhost:8080/",
          "height": 34
        },
        "outputId": "8daea213-3ecd-4187-a279-426037d43f66"
      },
      "source": [
        "X_all = np.concatenate([firing_rate[0],firing_rate[1],firing_rate[2],firing_rate[3]],0)\n",
        "#X = np.hstack(firing_rate[1])\n",
        "print(X_all.shape)\n"
      ],
      "execution_count": null,
      "outputs": [
        {
          "output_type": "stream",
          "text": [
            "(298, 300, 25)\n"
          ],
          "name": "stdout"
        }
      ]
    },
    {
      "cell_type": "code",
      "metadata": {
        "id": "JSiSawSOcshW",
        "colab_type": "code",
        "colab": {
          "base_uri": "https://localhost:8080/",
          "height": 1000
        },
        "outputId": "d8470a0f-5f6a-4d79-cab1-36e34e6142ac"
      },
      "source": [
        "R =3\n",
        "\n",
        "U = tt.cp_als(X_all, rank= R, verbose = True)\n",
        "V= tt.cp_als(X_all,rank=R,verbose=True)\n",
        "\n",
        "fig, ax, po = tt.plot_factors(U.factors)\n",
        "#fig.figsize=(20,16)\n",
        "tt.plot_factors(V.factors, fig=fig)\n",
        "fig.suptitle(\"raw models\",y=1.04)\n",
        "fig.tight_layout()"
      ],
      "execution_count": null,
      "outputs": [
        {
          "output_type": "stream",
          "text": [
            "CP_ALS: iteration 1, objective 0.9895573163375165, improvement inf.\n",
            "CP_ALS: iteration 2, objective 0.9010405897528545, improvement 0.08851672658466203.\n",
            "CP_ALS: iteration 3, objective 0.8985393308556159, improvement 0.002501258897238623.\n",
            "CP_ALS: iteration 4, objective 0.8965344350525687, improvement 0.002004895803047191.\n",
            "CP_ALS: iteration 5, objective 0.8951773011055956, improvement 0.0013571339469731214.\n",
            "CP_ALS: iteration 6, objective 0.8948586527645693, improvement 0.00031864834102623973.\n",
            "CP_ALS: iteration 7, objective 0.8947414668908014, improvement 0.00011718587376796652.\n",
            "CP_ALS: iteration 8, objective 0.8946765158907937, improvement 6.495100000769582e-05.\n",
            "CP_ALS: iteration 9, objective 0.8946319997110219, improvement 4.451617977174749e-05.\n",
            "CP_ALS: iteration 10, objective 0.8945967976116572, improvement 3.5202099364695094e-05.\n",
            "CP_ALS: iteration 11, objective 0.8945659849915939, improvement 3.081262006332519e-05.\n",
            "CP_ALS: iteration 12, objective 0.8945370550405569, improvement 2.892995103698226e-05.\n",
            "CP_ALS: iteration 13, objective 0.8945087861419199, improvement 2.826889863705162e-05.\n",
            "CP_ALS: iteration 14, objective 0.8944808288138649, improvement 2.7957328054939445e-05.\n",
            "CP_ALS: iteration 15, objective 0.8944534409973061, improvement 2.7387816558865907e-05.\n",
            "CP_ALS: iteration 16, objective 0.8944272080564837, improvement 2.623294082237937e-05.\n",
            "CP_ALS: iteration 17, objective 0.8944027495040415, improvement 2.445855244215256e-05.\n",
            "CP_ALS: iteration 18, objective 0.8943804850721822, improvement 2.2264431859375655e-05.\n",
            "CP_ALS: iteration 19, objective 0.8943605245189301, improvement 1.9960553252040825e-05.\n",
            "CP_ALS: iteration 20, objective 0.8943426858537423, improvement 1.7838665187785985e-05.\n",
            "CP_ALS: iteration 21, objective 0.8943265911235556, improvement 1.6094730186710926e-05.\n",
            "CP_ALS: iteration 22, objective 0.8943117751336679, improvement 1.4815989887728698e-05.\n",
            "CP_ALS: iteration 23, objective 0.8942977645022814, improvement 1.4010631386507377e-05.\n",
            "CP_ALS: iteration 24, objective 0.8942841145950011, improvement 1.3649907280255391e-05.\n",
            "CP_ALS: iteration 25, objective 0.8942704109884713, improvement 1.3703606529857915e-05.\n",
            "CP_ALS: iteration 26, objective 0.894256247395393, improvement 1.4163593078264647e-05.\n",
            "CP_ALS: iteration 27, objective 0.8942411889976086, improvement 1.5058397784373234e-05.\n",
            "CP_ALS: iteration 28, objective 0.8942247245318098, improvement 1.6464465798837757e-05.\n",
            "CP_ALS: iteration 29, objective 0.8942062052177554, improvement 1.8519314054388225e-05.\n",
            "CP_ALS: iteration 30, objective 0.8941847647269375, improvement 2.1440490817870028e-05.\n",
            "CP_ALS: iteration 31, objective 0.8941592127695606, improvement 2.5551957376968026e-05.\n",
            "CP_ALS: iteration 32, objective 0.8941278987491859, improvement 3.131402037470643e-05.\n",
            "CP_ALS: iteration 33, objective 0.8940885607525833, improvement 3.9337996602606395e-05.\n",
            "CP_ALS: iteration 34, objective 0.8940382304925281, improvement 5.0330260055186926e-05.\n",
            "CP_ALS: iteration 35, objective 0.8939733909930738, improvement 6.483949945423895e-05.\n",
            "CP_ALS: iteration 36, objective 0.8938907856817437, improvement 8.26053113300862e-05.\n",
            "CP_ALS: iteration 37, objective 0.8937893598291525, improvement 0.00010142585259120818.\n",
            "CP_ALS: iteration 38, objective 0.8936731373461451, improvement 0.00011622248300746651.\n",
            "CP_ALS: iteration 39, objective 0.893552887145148, improvement 0.00012025020099704076.\n",
            "CP_ALS: iteration 40, objective 0.8934432703756198, improvement 0.0001096167695282535.\n",
            "CP_ALS: iteration 41, objective 0.8933559149621887, improvement 8.735541343107833e-05.\n",
            "CP_ALS: iteration 42, objective 0.8932944252202202, improvement 6.148974196851231e-05.\n",
            "CP_ALS: iteration 43, objective 0.893255317508901, improvement 3.910771131920843e-05.\n",
            "CP_ALS: iteration 44, objective 0.893232210584099, improvement 2.310692480200771e-05.\n",
            "CP_ALS: iteration 45, objective 0.8932191638179866, improvement 1.3046766112356778e-05.\n",
            "CP_ALS: iteration 46, objective 0.8932119321817239, improvement 7.231636262705621e-06.\n",
            "Converged after 46 iterations, 1.8605780050002068 seconds. Objective: 0.8932119321817239.\n",
            "CP_ALS: iteration 1, objective 0.9979080574466811, improvement inf.\n",
            "CP_ALS: iteration 2, objective 0.9031232654903666, improvement 0.0947847919563145.\n",
            "CP_ALS: iteration 3, objective 0.8983589939302575, improvement 0.004764271560109057.\n",
            "CP_ALS: iteration 4, objective 0.894557497862311, improvement 0.0038014960679465526.\n",
            "CP_ALS: iteration 5, objective 0.8936504929366427, improvement 0.0009070049256683088.\n",
            "CP_ALS: iteration 6, objective 0.8934188079966962, improvement 0.00023168493994651929.\n",
            "CP_ALS: iteration 7, objective 0.8933294735644669, improvement 8.933443222924886e-05.\n",
            "CP_ALS: iteration 8, objective 0.893291488090213, improvement 3.798547425393206e-05.\n",
            "CP_ALS: iteration 9, objective 0.8932746891527501, improvement 1.6798937462869645e-05.\n",
            "CP_ALS: iteration 10, objective 0.8932666988284214, improvement 7.990324328743803e-06.\n",
            "Converged after 10 iterations, 0.4066568960006407 seconds. Objective: 0.8932666988284214.\n"
          ],
          "name": "stdout"
        },
        {
          "output_type": "display_data",
          "data": {
            "image/png": "[encoded data removed]",
            "text/plain": [
              "<Figure size 576x216 with 9 Axes>"
            ]
          },
          "metadata": {
            "tags": [],
            "needs_background": "light"
          }
        }
      ]
    },
    {
      "cell_type": "code",
      "metadata": {
        "id": "4m3923kzeYij",
        "colab_type": "code",
        "colab": {
          "base_uri": "https://localhost:8080/",
          "height": 257
        },
        "outputId": "aeb5db2b-34aa-4454-b5fb-a9916df9ce42"
      },
      "source": [
        "# Align the two fits and print a similarity score.\n",
        "sim = tt.kruskal_align(U.factors, V.factors, permute_U=True, permute_V=True) # sim is the similarity score \n",
        "print(sim)\n",
        "\n",
        "# Plot the results again to see alignment.\n",
        "fig, ax, po = tt.plot_factors(U.factors)\n",
        "tt.plot_factors(V.factors, fig=fig)\n",
        "fig.suptitle(\"aligned models\",y=1.02)\n",
        "fig.tight_layout()\n",
        "\n",
        "# Show plots.\n",
        "plt.show()"
      ],
      "execution_count": null,
      "outputs": [
        {
          "output_type": "stream",
          "text": [
            "0.9799431684637466\n"
          ],
          "name": "stdout"
        },
        {
          "output_type": "display_data",
          "data": {
            "image/png": "[encoded data removed]",
            "text/plain": [
              "<Figure size 576x216 with 9 Axes>"
            ]
          },
          "metadata": {
            "tags": [],
            "needs_background": "light"
          }
        }
      ]
    },
    {
      "cell_type": "code",
      "metadata": {
        "id": "gAHGpCQeb2d9",
        "colab_type": "code",
        "colab": {}
      },
      "source": [
        "# TODO - not needed for Tensor \n",
        "def moveMean_step(stepSize,data,axis): \n",
        "  # now only work up to 2 D\n",
        "  in_n=data.shape[axis]\n",
        "  out_n=np.ceil(in_n/stepSize)\n",
        "  if axis==0:\n",
        "    out_mat=np.zeros((out_n,data.shape[1]))\n",
        "  else:\n",
        "    out_mat=np.zeros((out_n,data.shape[0]))\n",
        "  for i in range(out_n):\n",
        "    \n",
        "\n",
        "\n",
        "\n",
        "  \n",
        "\n"
      ],
      "execution_count": null,
      "outputs": []
    },
    {
      "cell_type": "code",
      "metadata": {
        "id": "g8qq66j7mkeo",
        "colab_type": "code",
        "colab": {
          "base_uri": "https://localhost:8080/",
          "height": 34
        },
        "outputId": "bc13258e-739a-464b-c631-a65fa3a8b5d9"
      },
      "source": [
        "########################### defined the whole trial matrix for PCA ###########################\n",
        "smpCellN=int(np.min(cellN))\n",
        "MOs = area[len(area)-1] # in reality loop through each region\n",
        "cell_i = np.random.choice(np.arange(0,MOs.shape[0]+1), smpCellN, replace=False)\n",
        "MOs_sampled = MOs[cell_i,:,:]\n",
        "\n",
        "for i in range(MOs_sampled.shape[1]):\n",
        "    if i == 0:\n",
        "        MOs_mat = np.rollaxis(MOs_sampled[:,i,:], 1, 0)\n",
        "    else:\n",
        "        tmp = np.rollaxis(MOs_sampled[:,1,:], 1, 0)\n",
        "        MOs_mat = np.append(MOs_mat, tmp, axis=0)\n",
        "print(MOs_mat.shape)\n",
        "# the data is now down sampled to 34 neurons without replacement \n",
        "# (34 is the min cell num across regions)\n",
        "# this session has 300 trils and 250 bins each \n",
        "# so MOs_mat now has 34 columns and 75000(=250*300) rows\n",
        "\n",
        "# we'll bin then into 25*300 rows where \n",
        "# each row has 100 ms averaged FR, not overlapped in time\n",
        "\n",
        "\n",
        "\n",
        "\n",
        "\n",
        "\n"
      ],
      "execution_count": null,
      "outputs": [
        {
          "output_type": "stream",
          "text": [
            "(75000, 34)\n"
          ],
          "name": "stdout"
        }
      ]
    },
    {
      "cell_type": "code",
      "metadata": {
        "id": "QgphZ2OTmsrx",
        "colab_type": "code",
        "colab": {}
      },
      "source": [
        "########################### estimate sig PCs for whole trial ###########################"
      ],
      "execution_count": null,
      "outputs": []
    },
    {
      "cell_type": "code",
      "metadata": {
        "id": "y1R7whBYaD26",
        "colab_type": "code",
        "colab": {}
      },
      "source": [
        "########################### define a event by time bin matrix  ###########################"
      ],
      "execution_count": null,
      "outputs": []
    },
    {
      "cell_type": "code",
      "metadata": {
        "id": "3DA-F4Mum26k",
        "colab_type": "code",
        "colab": {}
      },
      "source": [
        "########################### estimate sig PCs for events ###########################"
      ],
      "execution_count": null,
      "outputs": []
    }
  ]
}